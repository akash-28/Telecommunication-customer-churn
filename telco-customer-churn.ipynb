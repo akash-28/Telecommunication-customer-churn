{
 "cells": [
  {
   "cell_type": "code",
   "execution_count": 1,
   "id": "32c2151c",
   "metadata": {
    "_cell_guid": "b1076dfc-b9ad-4769-8c92-a6c4dae69d19",
    "_uuid": "8f2839f25d086af736a60e9eeb907d3b93b6e0e5",
    "execution": {
     "iopub.execute_input": "2022-03-23T04:59:26.148844Z",
     "iopub.status.busy": "2022-03-23T04:59:26.148202Z",
     "iopub.status.idle": "2022-03-23T04:59:26.164998Z",
     "shell.execute_reply": "2022-03-23T04:59:26.163841Z",
     "shell.execute_reply.started": "2022-03-23T04:50:08.621831Z"
    },
    "papermill": {
     "duration": 0.125757,
     "end_time": "2022-03-23T04:59:26.165162",
     "exception": false,
     "start_time": "2022-03-23T04:59:26.039405",
     "status": "completed"
    },
    "tags": []
   },
   "outputs": [
    {
     "name": "stdout",
     "output_type": "stream",
     "text": [
      "/kaggle/input/telco-customer-churn/WA_Fn-UseC_-Telco-Customer-Churn.csv\n"
     ]
    }
   ],
   "source": [
    "# This Python 3 environment comes with many helpful analytics libraries installed\n",
    "# It is defined by the kaggle/python Docker image: https://github.com/kaggle/docker-python\n",
    "# For example, here's several helpful packages to load\n",
    "\n",
    "import numpy as np # linear algebra\n",
    "import pandas as pd # data processing, CSV file I/O (e.g. pd.read_csv)\n",
    "\n",
    "# Input data files are available in the read-only \"../input/\" directory\n",
    "# For example, running this (by clicking run or pressing Shift+Enter) will list all files under the input directory\n",
    "\n",
    "import os\n",
    "for dirname, _, filenames in os.walk('/kaggle/input'):\n",
    "    for filename in filenames:\n",
    "        print(os.path.join(dirname, filename))\n",
    "\n",
    "# You can write up to 20GB to the current directory (/kaggle/working/) that gets preserved as output when you create a version using \"Save & Run All\" \n",
    "# You can also write temporary files to /kaggle/temp/, but they won't be saved outside of the current session"
   ]
  },
  {
   "cell_type": "markdown",
   "id": "79b59946",
   "metadata": {
    "papermill": {
     "duration": 0.096695,
     "end_time": "2022-03-23T04:59:26.360069",
     "exception": false,
     "start_time": "2022-03-23T04:59:26.263374",
     "status": "completed"
    },
    "tags": []
   },
   "source": [
    "**Telecomm Customer Churn analysis and Retention Modeling and Strategy**"
   ]
  },
  {
   "cell_type": "code",
   "execution_count": 2,
   "id": "a4b1b175",
   "metadata": {
    "execution": {
     "iopub.execute_input": "2022-03-23T04:59:26.559217Z",
     "iopub.status.busy": "2022-03-23T04:59:26.558553Z",
     "iopub.status.idle": "2022-03-23T04:59:27.659148Z",
     "shell.execute_reply": "2022-03-23T04:59:27.659872Z",
     "shell.execute_reply.started": "2022-03-23T04:50:08.673973Z"
    },
    "papermill": {
     "duration": 1.202122,
     "end_time": "2022-03-23T04:59:27.660140",
     "exception": false,
     "start_time": "2022-03-23T04:59:26.458018",
     "status": "completed"
    },
    "tags": []
   },
   "outputs": [],
   "source": [
    "import numpy as np\n",
    "import pandas as pd\n",
    "import matplotlib.pyplot as plt\n",
    "import seaborn as sns"
   ]
  },
  {
   "cell_type": "markdown",
   "id": "f8f45ddc",
   "metadata": {
    "papermill": {
     "duration": 0.102205,
     "end_time": "2022-03-23T04:59:27.868890",
     "exception": false,
     "start_time": "2022-03-23T04:59:27.766685",
     "status": "completed"
    },
    "tags": []
   },
   "source": [
    "## Importing the dataset"
   ]
  },
  {
   "cell_type": "code",
   "execution_count": 3,
   "id": "3d3e8553",
   "metadata": {
    "execution": {
     "iopub.execute_input": "2022-03-23T04:59:28.091676Z",
     "iopub.status.busy": "2022-03-23T04:59:28.091064Z",
     "iopub.status.idle": "2022-03-23T04:59:28.148165Z",
     "shell.execute_reply": "2022-03-23T04:59:28.147498Z",
     "shell.execute_reply.started": "2022-03-23T04:50:09.749795Z"
    },
    "papermill": {
     "duration": 0.169688,
     "end_time": "2022-03-23T04:59:28.148359",
     "exception": false,
     "start_time": "2022-03-23T04:59:27.978671",
     "status": "completed"
    },
    "tags": []
   },
   "outputs": [],
   "source": [
    "df = pd.read_csv('../input/telco-customer-churn/WA_Fn-UseC_-Telco-Customer-Churn.csv')"
   ]
  },
  {
   "cell_type": "code",
   "execution_count": 4,
   "id": "953309f9",
   "metadata": {
    "execution": {
     "iopub.execute_input": "2022-03-23T04:59:28.376550Z",
     "iopub.status.busy": "2022-03-23T04:59:28.371528Z",
     "iopub.status.idle": "2022-03-23T04:59:28.379753Z",
     "shell.execute_reply": "2022-03-23T04:59:28.380386Z",
     "shell.execute_reply.started": "2022-03-23T04:50:09.807789Z"
    },
    "papermill": {
     "duration": 0.120872,
     "end_time": "2022-03-23T04:59:28.380592",
     "exception": false,
     "start_time": "2022-03-23T04:59:28.259720",
     "status": "completed"
    },
    "tags": []
   },
   "outputs": [
    {
     "data": {
      "text/plain": [
       "(7043, 21)"
      ]
     },
     "execution_count": 4,
     "metadata": {},
     "output_type": "execute_result"
    }
   ],
   "source": [
    "df.shape"
   ]
  },
  {
   "cell_type": "code",
   "execution_count": 5,
   "id": "48ec1629",
   "metadata": {
    "execution": {
     "iopub.execute_input": "2022-03-23T04:59:28.596582Z",
     "iopub.status.busy": "2022-03-23T04:59:28.595629Z",
     "iopub.status.idle": "2022-03-23T04:59:28.627094Z",
     "shell.execute_reply": "2022-03-23T04:59:28.627687Z",
     "shell.execute_reply.started": "2022-03-23T04:50:09.817700Z"
    },
    "papermill": {
     "duration": 0.139704,
     "end_time": "2022-03-23T04:59:28.627886",
     "exception": false,
     "start_time": "2022-03-23T04:59:28.488182",
     "status": "completed"
    },
    "tags": []
   },
   "outputs": [
    {
     "data": {
      "text/html": [
       "<div>\n",
       "<style scoped>\n",
       "    .dataframe tbody tr th:only-of-type {\n",
       "        vertical-align: middle;\n",
       "    }\n",
       "\n",
       "    .dataframe tbody tr th {\n",
       "        vertical-align: top;\n",
       "    }\n",
       "\n",
       "    .dataframe thead th {\n",
       "        text-align: right;\n",
       "    }\n",
       "</style>\n",
       "<table border=\"1\" class=\"dataframe\">\n",
       "  <thead>\n",
       "    <tr style=\"text-align: right;\">\n",
       "      <th></th>\n",
       "      <th>customerID</th>\n",
       "      <th>gender</th>\n",
       "      <th>SeniorCitizen</th>\n",
       "      <th>Partner</th>\n",
       "      <th>Dependents</th>\n",
       "      <th>tenure</th>\n",
       "      <th>PhoneService</th>\n",
       "      <th>MultipleLines</th>\n",
       "      <th>InternetService</th>\n",
       "      <th>OnlineSecurity</th>\n",
       "      <th>...</th>\n",
       "      <th>DeviceProtection</th>\n",
       "      <th>TechSupport</th>\n",
       "      <th>StreamingTV</th>\n",
       "      <th>StreamingMovies</th>\n",
       "      <th>Contract</th>\n",
       "      <th>PaperlessBilling</th>\n",
       "      <th>PaymentMethod</th>\n",
       "      <th>MonthlyCharges</th>\n",
       "      <th>TotalCharges</th>\n",
       "      <th>Churn</th>\n",
       "    </tr>\n",
       "  </thead>\n",
       "  <tbody>\n",
       "    <tr>\n",
       "      <th>0</th>\n",
       "      <td>7590-VHVEG</td>\n",
       "      <td>Female</td>\n",
       "      <td>0</td>\n",
       "      <td>Yes</td>\n",
       "      <td>No</td>\n",
       "      <td>1</td>\n",
       "      <td>No</td>\n",
       "      <td>No phone service</td>\n",
       "      <td>DSL</td>\n",
       "      <td>No</td>\n",
       "      <td>...</td>\n",
       "      <td>No</td>\n",
       "      <td>No</td>\n",
       "      <td>No</td>\n",
       "      <td>No</td>\n",
       "      <td>Month-to-month</td>\n",
       "      <td>Yes</td>\n",
       "      <td>Electronic check</td>\n",
       "      <td>29.85</td>\n",
       "      <td>29.85</td>\n",
       "      <td>No</td>\n",
       "    </tr>\n",
       "    <tr>\n",
       "      <th>1</th>\n",
       "      <td>5575-GNVDE</td>\n",
       "      <td>Male</td>\n",
       "      <td>0</td>\n",
       "      <td>No</td>\n",
       "      <td>No</td>\n",
       "      <td>34</td>\n",
       "      <td>Yes</td>\n",
       "      <td>No</td>\n",
       "      <td>DSL</td>\n",
       "      <td>Yes</td>\n",
       "      <td>...</td>\n",
       "      <td>Yes</td>\n",
       "      <td>No</td>\n",
       "      <td>No</td>\n",
       "      <td>No</td>\n",
       "      <td>One year</td>\n",
       "      <td>No</td>\n",
       "      <td>Mailed check</td>\n",
       "      <td>56.95</td>\n",
       "      <td>1889.5</td>\n",
       "      <td>No</td>\n",
       "    </tr>\n",
       "    <tr>\n",
       "      <th>2</th>\n",
       "      <td>3668-QPYBK</td>\n",
       "      <td>Male</td>\n",
       "      <td>0</td>\n",
       "      <td>No</td>\n",
       "      <td>No</td>\n",
       "      <td>2</td>\n",
       "      <td>Yes</td>\n",
       "      <td>No</td>\n",
       "      <td>DSL</td>\n",
       "      <td>Yes</td>\n",
       "      <td>...</td>\n",
       "      <td>No</td>\n",
       "      <td>No</td>\n",
       "      <td>No</td>\n",
       "      <td>No</td>\n",
       "      <td>Month-to-month</td>\n",
       "      <td>Yes</td>\n",
       "      <td>Mailed check</td>\n",
       "      <td>53.85</td>\n",
       "      <td>108.15</td>\n",
       "      <td>Yes</td>\n",
       "    </tr>\n",
       "    <tr>\n",
       "      <th>3</th>\n",
       "      <td>7795-CFOCW</td>\n",
       "      <td>Male</td>\n",
       "      <td>0</td>\n",
       "      <td>No</td>\n",
       "      <td>No</td>\n",
       "      <td>45</td>\n",
       "      <td>No</td>\n",
       "      <td>No phone service</td>\n",
       "      <td>DSL</td>\n",
       "      <td>Yes</td>\n",
       "      <td>...</td>\n",
       "      <td>Yes</td>\n",
       "      <td>Yes</td>\n",
       "      <td>No</td>\n",
       "      <td>No</td>\n",
       "      <td>One year</td>\n",
       "      <td>No</td>\n",
       "      <td>Bank transfer (automatic)</td>\n",
       "      <td>42.30</td>\n",
       "      <td>1840.75</td>\n",
       "      <td>No</td>\n",
       "    </tr>\n",
       "    <tr>\n",
       "      <th>4</th>\n",
       "      <td>9237-HQITU</td>\n",
       "      <td>Female</td>\n",
       "      <td>0</td>\n",
       "      <td>No</td>\n",
       "      <td>No</td>\n",
       "      <td>2</td>\n",
       "      <td>Yes</td>\n",
       "      <td>No</td>\n",
       "      <td>Fiber optic</td>\n",
       "      <td>No</td>\n",
       "      <td>...</td>\n",
       "      <td>No</td>\n",
       "      <td>No</td>\n",
       "      <td>No</td>\n",
       "      <td>No</td>\n",
       "      <td>Month-to-month</td>\n",
       "      <td>Yes</td>\n",
       "      <td>Electronic check</td>\n",
       "      <td>70.70</td>\n",
       "      <td>151.65</td>\n",
       "      <td>Yes</td>\n",
       "    </tr>\n",
       "  </tbody>\n",
       "</table>\n",
       "<p>5 rows × 21 columns</p>\n",
       "</div>"
      ],
      "text/plain": [
       "   customerID  gender  SeniorCitizen Partner Dependents  tenure PhoneService  \\\n",
       "0  7590-VHVEG  Female              0     Yes         No       1           No   \n",
       "1  5575-GNVDE    Male              0      No         No      34          Yes   \n",
       "2  3668-QPYBK    Male              0      No         No       2          Yes   \n",
       "3  7795-CFOCW    Male              0      No         No      45           No   \n",
       "4  9237-HQITU  Female              0      No         No       2          Yes   \n",
       "\n",
       "      MultipleLines InternetService OnlineSecurity  ... DeviceProtection  \\\n",
       "0  No phone service             DSL             No  ...               No   \n",
       "1                No             DSL            Yes  ...              Yes   \n",
       "2                No             DSL            Yes  ...               No   \n",
       "3  No phone service             DSL            Yes  ...              Yes   \n",
       "4                No     Fiber optic             No  ...               No   \n",
       "\n",
       "  TechSupport StreamingTV StreamingMovies        Contract PaperlessBilling  \\\n",
       "0          No          No              No  Month-to-month              Yes   \n",
       "1          No          No              No        One year               No   \n",
       "2          No          No              No  Month-to-month              Yes   \n",
       "3         Yes          No              No        One year               No   \n",
       "4          No          No              No  Month-to-month              Yes   \n",
       "\n",
       "               PaymentMethod MonthlyCharges  TotalCharges Churn  \n",
       "0           Electronic check          29.85         29.85    No  \n",
       "1               Mailed check          56.95        1889.5    No  \n",
       "2               Mailed check          53.85        108.15   Yes  \n",
       "3  Bank transfer (automatic)          42.30       1840.75    No  \n",
       "4           Electronic check          70.70        151.65   Yes  \n",
       "\n",
       "[5 rows x 21 columns]"
      ]
     },
     "execution_count": 5,
     "metadata": {},
     "output_type": "execute_result"
    }
   ],
   "source": [
    "df.head()"
   ]
  },
  {
   "cell_type": "code",
   "execution_count": 6,
   "id": "014260fd",
   "metadata": {
    "execution": {
     "iopub.execute_input": "2022-03-23T04:59:28.841116Z",
     "iopub.status.busy": "2022-03-23T04:59:28.840452Z",
     "iopub.status.idle": "2022-03-23T04:59:28.848465Z",
     "shell.execute_reply": "2022-03-23T04:59:28.849040Z",
     "shell.execute_reply.started": "2022-03-23T04:50:09.859057Z"
    },
    "papermill": {
     "duration": 0.112052,
     "end_time": "2022-03-23T04:59:28.849213",
     "exception": false,
     "start_time": "2022-03-23T04:59:28.737161",
     "status": "completed"
    },
    "tags": []
   },
   "outputs": [
    {
     "data": {
      "text/plain": [
       "customerID           object\n",
       "gender               object\n",
       "SeniorCitizen         int64\n",
       "Partner              object\n",
       "Dependents           object\n",
       "tenure                int64\n",
       "PhoneService         object\n",
       "MultipleLines        object\n",
       "InternetService      object\n",
       "OnlineSecurity       object\n",
       "OnlineBackup         object\n",
       "DeviceProtection     object\n",
       "TechSupport          object\n",
       "StreamingTV          object\n",
       "StreamingMovies      object\n",
       "Contract             object\n",
       "PaperlessBilling     object\n",
       "PaymentMethod        object\n",
       "MonthlyCharges      float64\n",
       "TotalCharges         object\n",
       "Churn                object\n",
       "dtype: object"
      ]
     },
     "execution_count": 6,
     "metadata": {},
     "output_type": "execute_result"
    }
   ],
   "source": [
    "df.dtypes"
   ]
  },
  {
   "cell_type": "markdown",
   "id": "47658b4f",
   "metadata": {
    "papermill": {
     "duration": 0.102595,
     "end_time": "2022-03-23T04:59:29.057617",
     "exception": false,
     "start_time": "2022-03-23T04:59:28.955022",
     "status": "completed"
    },
    "tags": []
   },
   "source": [
    "Here we can see that 'TotalCharges' is object type but ideally it should be float\n",
    "So, we'll try to convert it to float type"
   ]
  },
  {
   "cell_type": "code",
   "execution_count": 7,
   "id": "bd5cd9fd",
   "metadata": {
    "execution": {
     "iopub.execute_input": "2022-03-23T04:59:29.272075Z",
     "iopub.status.busy": "2022-03-23T04:59:29.271094Z",
     "iopub.status.idle": "2022-03-23T04:59:29.274795Z",
     "shell.execute_reply": "2022-03-23T04:59:29.275368Z",
     "shell.execute_reply.started": "2022-03-23T04:50:09.868665Z"
    },
    "papermill": {
     "duration": 0.118514,
     "end_time": "2022-03-23T04:59:29.275544",
     "exception": false,
     "start_time": "2022-03-23T04:59:29.157030",
     "status": "completed"
    },
    "tags": []
   },
   "outputs": [
    {
     "data": {
      "text/plain": [
       "0"
      ]
     },
     "execution_count": 7,
     "metadata": {},
     "output_type": "execute_result"
    }
   ],
   "source": [
    "df['TotalCharges'].isnull().sum()"
   ]
  },
  {
   "cell_type": "code",
   "execution_count": 8,
   "id": "bdc05445",
   "metadata": {
    "execution": {
     "iopub.execute_input": "2022-03-23T04:59:29.486489Z",
     "iopub.status.busy": "2022-03-23T04:59:29.485516Z",
     "iopub.status.idle": "2022-03-23T04:59:29.521741Z",
     "shell.execute_reply": "2022-03-23T04:59:29.522255Z",
     "shell.execute_reply.started": "2022-03-23T04:50:09.885404Z"
    },
    "papermill": {
     "duration": 0.139979,
     "end_time": "2022-03-23T04:59:29.522427",
     "exception": false,
     "start_time": "2022-03-23T04:59:29.382448",
     "status": "completed"
    },
    "tags": []
   },
   "outputs": [
    {
     "data": {
      "text/html": [
       "<div>\n",
       "<style scoped>\n",
       "    .dataframe tbody tr th:only-of-type {\n",
       "        vertical-align: middle;\n",
       "    }\n",
       "\n",
       "    .dataframe tbody tr th {\n",
       "        vertical-align: top;\n",
       "    }\n",
       "\n",
       "    .dataframe thead th {\n",
       "        text-align: right;\n",
       "    }\n",
       "</style>\n",
       "<table border=\"1\" class=\"dataframe\">\n",
       "  <thead>\n",
       "    <tr style=\"text-align: right;\">\n",
       "      <th></th>\n",
       "      <th>customerID</th>\n",
       "      <th>gender</th>\n",
       "      <th>SeniorCitizen</th>\n",
       "      <th>Partner</th>\n",
       "      <th>Dependents</th>\n",
       "      <th>tenure</th>\n",
       "      <th>PhoneService</th>\n",
       "      <th>MultipleLines</th>\n",
       "      <th>InternetService</th>\n",
       "      <th>OnlineSecurity</th>\n",
       "      <th>...</th>\n",
       "      <th>DeviceProtection</th>\n",
       "      <th>TechSupport</th>\n",
       "      <th>StreamingTV</th>\n",
       "      <th>StreamingMovies</th>\n",
       "      <th>Contract</th>\n",
       "      <th>PaperlessBilling</th>\n",
       "      <th>PaymentMethod</th>\n",
       "      <th>MonthlyCharges</th>\n",
       "      <th>TotalCharges</th>\n",
       "      <th>Churn</th>\n",
       "    </tr>\n",
       "  </thead>\n",
       "  <tbody>\n",
       "    <tr>\n",
       "      <th>488</th>\n",
       "      <td>4472-LVYGI</td>\n",
       "      <td>Female</td>\n",
       "      <td>0</td>\n",
       "      <td>Yes</td>\n",
       "      <td>Yes</td>\n",
       "      <td>0</td>\n",
       "      <td>No</td>\n",
       "      <td>No phone service</td>\n",
       "      <td>DSL</td>\n",
       "      <td>Yes</td>\n",
       "      <td>...</td>\n",
       "      <td>Yes</td>\n",
       "      <td>Yes</td>\n",
       "      <td>Yes</td>\n",
       "      <td>No</td>\n",
       "      <td>Two year</td>\n",
       "      <td>Yes</td>\n",
       "      <td>Bank transfer (automatic)</td>\n",
       "      <td>52.55</td>\n",
       "      <td></td>\n",
       "      <td>No</td>\n",
       "    </tr>\n",
       "    <tr>\n",
       "      <th>753</th>\n",
       "      <td>3115-CZMZD</td>\n",
       "      <td>Male</td>\n",
       "      <td>0</td>\n",
       "      <td>No</td>\n",
       "      <td>Yes</td>\n",
       "      <td>0</td>\n",
       "      <td>Yes</td>\n",
       "      <td>No</td>\n",
       "      <td>No</td>\n",
       "      <td>No internet service</td>\n",
       "      <td>...</td>\n",
       "      <td>No internet service</td>\n",
       "      <td>No internet service</td>\n",
       "      <td>No internet service</td>\n",
       "      <td>No internet service</td>\n",
       "      <td>Two year</td>\n",
       "      <td>No</td>\n",
       "      <td>Mailed check</td>\n",
       "      <td>20.25</td>\n",
       "      <td></td>\n",
       "      <td>No</td>\n",
       "    </tr>\n",
       "    <tr>\n",
       "      <th>936</th>\n",
       "      <td>5709-LVOEQ</td>\n",
       "      <td>Female</td>\n",
       "      <td>0</td>\n",
       "      <td>Yes</td>\n",
       "      <td>Yes</td>\n",
       "      <td>0</td>\n",
       "      <td>Yes</td>\n",
       "      <td>No</td>\n",
       "      <td>DSL</td>\n",
       "      <td>Yes</td>\n",
       "      <td>...</td>\n",
       "      <td>Yes</td>\n",
       "      <td>No</td>\n",
       "      <td>Yes</td>\n",
       "      <td>Yes</td>\n",
       "      <td>Two year</td>\n",
       "      <td>No</td>\n",
       "      <td>Mailed check</td>\n",
       "      <td>80.85</td>\n",
       "      <td></td>\n",
       "      <td>No</td>\n",
       "    </tr>\n",
       "    <tr>\n",
       "      <th>1082</th>\n",
       "      <td>4367-NUYAO</td>\n",
       "      <td>Male</td>\n",
       "      <td>0</td>\n",
       "      <td>Yes</td>\n",
       "      <td>Yes</td>\n",
       "      <td>0</td>\n",
       "      <td>Yes</td>\n",
       "      <td>Yes</td>\n",
       "      <td>No</td>\n",
       "      <td>No internet service</td>\n",
       "      <td>...</td>\n",
       "      <td>No internet service</td>\n",
       "      <td>No internet service</td>\n",
       "      <td>No internet service</td>\n",
       "      <td>No internet service</td>\n",
       "      <td>Two year</td>\n",
       "      <td>No</td>\n",
       "      <td>Mailed check</td>\n",
       "      <td>25.75</td>\n",
       "      <td></td>\n",
       "      <td>No</td>\n",
       "    </tr>\n",
       "    <tr>\n",
       "      <th>1340</th>\n",
       "      <td>1371-DWPAZ</td>\n",
       "      <td>Female</td>\n",
       "      <td>0</td>\n",
       "      <td>Yes</td>\n",
       "      <td>Yes</td>\n",
       "      <td>0</td>\n",
       "      <td>No</td>\n",
       "      <td>No phone service</td>\n",
       "      <td>DSL</td>\n",
       "      <td>Yes</td>\n",
       "      <td>...</td>\n",
       "      <td>Yes</td>\n",
       "      <td>Yes</td>\n",
       "      <td>Yes</td>\n",
       "      <td>No</td>\n",
       "      <td>Two year</td>\n",
       "      <td>No</td>\n",
       "      <td>Credit card (automatic)</td>\n",
       "      <td>56.05</td>\n",
       "      <td></td>\n",
       "      <td>No</td>\n",
       "    </tr>\n",
       "    <tr>\n",
       "      <th>3331</th>\n",
       "      <td>7644-OMVMY</td>\n",
       "      <td>Male</td>\n",
       "      <td>0</td>\n",
       "      <td>Yes</td>\n",
       "      <td>Yes</td>\n",
       "      <td>0</td>\n",
       "      <td>Yes</td>\n",
       "      <td>No</td>\n",
       "      <td>No</td>\n",
       "      <td>No internet service</td>\n",
       "      <td>...</td>\n",
       "      <td>No internet service</td>\n",
       "      <td>No internet service</td>\n",
       "      <td>No internet service</td>\n",
       "      <td>No internet service</td>\n",
       "      <td>Two year</td>\n",
       "      <td>No</td>\n",
       "      <td>Mailed check</td>\n",
       "      <td>19.85</td>\n",
       "      <td></td>\n",
       "      <td>No</td>\n",
       "    </tr>\n",
       "    <tr>\n",
       "      <th>3826</th>\n",
       "      <td>3213-VVOLG</td>\n",
       "      <td>Male</td>\n",
       "      <td>0</td>\n",
       "      <td>Yes</td>\n",
       "      <td>Yes</td>\n",
       "      <td>0</td>\n",
       "      <td>Yes</td>\n",
       "      <td>Yes</td>\n",
       "      <td>No</td>\n",
       "      <td>No internet service</td>\n",
       "      <td>...</td>\n",
       "      <td>No internet service</td>\n",
       "      <td>No internet service</td>\n",
       "      <td>No internet service</td>\n",
       "      <td>No internet service</td>\n",
       "      <td>Two year</td>\n",
       "      <td>No</td>\n",
       "      <td>Mailed check</td>\n",
       "      <td>25.35</td>\n",
       "      <td></td>\n",
       "      <td>No</td>\n",
       "    </tr>\n",
       "    <tr>\n",
       "      <th>4380</th>\n",
       "      <td>2520-SGTTA</td>\n",
       "      <td>Female</td>\n",
       "      <td>0</td>\n",
       "      <td>Yes</td>\n",
       "      <td>Yes</td>\n",
       "      <td>0</td>\n",
       "      <td>Yes</td>\n",
       "      <td>No</td>\n",
       "      <td>No</td>\n",
       "      <td>No internet service</td>\n",
       "      <td>...</td>\n",
       "      <td>No internet service</td>\n",
       "      <td>No internet service</td>\n",
       "      <td>No internet service</td>\n",
       "      <td>No internet service</td>\n",
       "      <td>Two year</td>\n",
       "      <td>No</td>\n",
       "      <td>Mailed check</td>\n",
       "      <td>20.00</td>\n",
       "      <td></td>\n",
       "      <td>No</td>\n",
       "    </tr>\n",
       "    <tr>\n",
       "      <th>5218</th>\n",
       "      <td>2923-ARZLG</td>\n",
       "      <td>Male</td>\n",
       "      <td>0</td>\n",
       "      <td>Yes</td>\n",
       "      <td>Yes</td>\n",
       "      <td>0</td>\n",
       "      <td>Yes</td>\n",
       "      <td>No</td>\n",
       "      <td>No</td>\n",
       "      <td>No internet service</td>\n",
       "      <td>...</td>\n",
       "      <td>No internet service</td>\n",
       "      <td>No internet service</td>\n",
       "      <td>No internet service</td>\n",
       "      <td>No internet service</td>\n",
       "      <td>One year</td>\n",
       "      <td>Yes</td>\n",
       "      <td>Mailed check</td>\n",
       "      <td>19.70</td>\n",
       "      <td></td>\n",
       "      <td>No</td>\n",
       "    </tr>\n",
       "    <tr>\n",
       "      <th>6670</th>\n",
       "      <td>4075-WKNIU</td>\n",
       "      <td>Female</td>\n",
       "      <td>0</td>\n",
       "      <td>Yes</td>\n",
       "      <td>Yes</td>\n",
       "      <td>0</td>\n",
       "      <td>Yes</td>\n",
       "      <td>Yes</td>\n",
       "      <td>DSL</td>\n",
       "      <td>No</td>\n",
       "      <td>...</td>\n",
       "      <td>Yes</td>\n",
       "      <td>Yes</td>\n",
       "      <td>Yes</td>\n",
       "      <td>No</td>\n",
       "      <td>Two year</td>\n",
       "      <td>No</td>\n",
       "      <td>Mailed check</td>\n",
       "      <td>73.35</td>\n",
       "      <td></td>\n",
       "      <td>No</td>\n",
       "    </tr>\n",
       "    <tr>\n",
       "      <th>6754</th>\n",
       "      <td>2775-SEFEE</td>\n",
       "      <td>Male</td>\n",
       "      <td>0</td>\n",
       "      <td>No</td>\n",
       "      <td>Yes</td>\n",
       "      <td>0</td>\n",
       "      <td>Yes</td>\n",
       "      <td>Yes</td>\n",
       "      <td>DSL</td>\n",
       "      <td>Yes</td>\n",
       "      <td>...</td>\n",
       "      <td>No</td>\n",
       "      <td>Yes</td>\n",
       "      <td>No</td>\n",
       "      <td>No</td>\n",
       "      <td>Two year</td>\n",
       "      <td>Yes</td>\n",
       "      <td>Bank transfer (automatic)</td>\n",
       "      <td>61.90</td>\n",
       "      <td></td>\n",
       "      <td>No</td>\n",
       "    </tr>\n",
       "  </tbody>\n",
       "</table>\n",
       "<p>11 rows × 21 columns</p>\n",
       "</div>"
      ],
      "text/plain": [
       "      customerID  gender  SeniorCitizen Partner Dependents  tenure  \\\n",
       "488   4472-LVYGI  Female              0     Yes        Yes       0   \n",
       "753   3115-CZMZD    Male              0      No        Yes       0   \n",
       "936   5709-LVOEQ  Female              0     Yes        Yes       0   \n",
       "1082  4367-NUYAO    Male              0     Yes        Yes       0   \n",
       "1340  1371-DWPAZ  Female              0     Yes        Yes       0   \n",
       "3331  7644-OMVMY    Male              0     Yes        Yes       0   \n",
       "3826  3213-VVOLG    Male              0     Yes        Yes       0   \n",
       "4380  2520-SGTTA  Female              0     Yes        Yes       0   \n",
       "5218  2923-ARZLG    Male              0     Yes        Yes       0   \n",
       "6670  4075-WKNIU  Female              0     Yes        Yes       0   \n",
       "6754  2775-SEFEE    Male              0      No        Yes       0   \n",
       "\n",
       "     PhoneService     MultipleLines InternetService       OnlineSecurity  ...  \\\n",
       "488            No  No phone service             DSL                  Yes  ...   \n",
       "753           Yes                No              No  No internet service  ...   \n",
       "936           Yes                No             DSL                  Yes  ...   \n",
       "1082          Yes               Yes              No  No internet service  ...   \n",
       "1340           No  No phone service             DSL                  Yes  ...   \n",
       "3331          Yes                No              No  No internet service  ...   \n",
       "3826          Yes               Yes              No  No internet service  ...   \n",
       "4380          Yes                No              No  No internet service  ...   \n",
       "5218          Yes                No              No  No internet service  ...   \n",
       "6670          Yes               Yes             DSL                   No  ...   \n",
       "6754          Yes               Yes             DSL                  Yes  ...   \n",
       "\n",
       "         DeviceProtection          TechSupport          StreamingTV  \\\n",
       "488                   Yes                  Yes                  Yes   \n",
       "753   No internet service  No internet service  No internet service   \n",
       "936                   Yes                   No                  Yes   \n",
       "1082  No internet service  No internet service  No internet service   \n",
       "1340                  Yes                  Yes                  Yes   \n",
       "3331  No internet service  No internet service  No internet service   \n",
       "3826  No internet service  No internet service  No internet service   \n",
       "4380  No internet service  No internet service  No internet service   \n",
       "5218  No internet service  No internet service  No internet service   \n",
       "6670                  Yes                  Yes                  Yes   \n",
       "6754                   No                  Yes                   No   \n",
       "\n",
       "          StreamingMovies  Contract PaperlessBilling  \\\n",
       "488                    No  Two year              Yes   \n",
       "753   No internet service  Two year               No   \n",
       "936                   Yes  Two year               No   \n",
       "1082  No internet service  Two year               No   \n",
       "1340                   No  Two year               No   \n",
       "3331  No internet service  Two year               No   \n",
       "3826  No internet service  Two year               No   \n",
       "4380  No internet service  Two year               No   \n",
       "5218  No internet service  One year              Yes   \n",
       "6670                   No  Two year               No   \n",
       "6754                   No  Two year              Yes   \n",
       "\n",
       "                  PaymentMethod MonthlyCharges  TotalCharges Churn  \n",
       "488   Bank transfer (automatic)          52.55                  No  \n",
       "753                Mailed check          20.25                  No  \n",
       "936                Mailed check          80.85                  No  \n",
       "1082               Mailed check          25.75                  No  \n",
       "1340    Credit card (automatic)          56.05                  No  \n",
       "3331               Mailed check          19.85                  No  \n",
       "3826               Mailed check          25.35                  No  \n",
       "4380               Mailed check          20.00                  No  \n",
       "5218               Mailed check          19.70                  No  \n",
       "6670               Mailed check          73.35                  No  \n",
       "6754  Bank transfer (automatic)          61.90                  No  \n",
       "\n",
       "[11 rows x 21 columns]"
      ]
     },
     "execution_count": 8,
     "metadata": {},
     "output_type": "execute_result"
    }
   ],
   "source": [
    "## checking for all the rows having values other than 0-9\n",
    "filter = df.TotalCharges.str.match('^[0-9]')\n",
    "df[~filter]"
   ]
  },
  {
   "cell_type": "code",
   "execution_count": 9,
   "id": "169acd79",
   "metadata": {
    "execution": {
     "iopub.execute_input": "2022-03-23T04:59:29.734726Z",
     "iopub.status.busy": "2022-03-23T04:59:29.733687Z",
     "iopub.status.idle": "2022-03-23T04:59:29.741273Z",
     "shell.execute_reply": "2022-03-23T04:59:29.741865Z",
     "shell.execute_reply.started": "2022-03-23T04:50:09.926551Z"
    },
    "papermill": {
     "duration": 0.113357,
     "end_time": "2022-03-23T04:59:29.742057",
     "exception": false,
     "start_time": "2022-03-23T04:59:29.628700",
     "status": "completed"
    },
    "tags": []
   },
   "outputs": [
    {
     "data": {
      "text/plain": [
       "488      \n",
       "753      \n",
       "936      \n",
       "1082     \n",
       "1340     \n",
       "3331     \n",
       "3826     \n",
       "4380     \n",
       "5218     \n",
       "6670     \n",
       "6754     \n",
       "Name: TotalCharges, dtype: object"
      ]
     },
     "execution_count": 9,
     "metadata": {},
     "output_type": "execute_result"
    }
   ],
   "source": [
    "df[~filter]['TotalCharges']"
   ]
  },
  {
   "cell_type": "markdown",
   "id": "2f322bca",
   "metadata": {
    "papermill": {
     "duration": 0.10279,
     "end_time": "2022-03-23T04:59:29.947859",
     "exception": false,
     "start_time": "2022-03-23T04:59:29.845069",
     "status": "completed"
    },
    "tags": []
   },
   "source": [
    "As we can see only index numbers are being shown but no numeric valus is found, instead it just a single space character"
   ]
  },
  {
   "cell_type": "code",
   "execution_count": 10,
   "id": "3a9abfaf",
   "metadata": {
    "execution": {
     "iopub.execute_input": "2022-03-23T04:59:30.155163Z",
     "iopub.status.busy": "2022-03-23T04:59:30.154206Z",
     "iopub.status.idle": "2022-03-23T04:59:30.160030Z",
     "shell.execute_reply": "2022-03-23T04:59:30.160608Z",
     "shell.execute_reply.started": "2022-03-23T04:50:09.938958Z"
    },
    "papermill": {
     "duration": 0.110379,
     "end_time": "2022-03-23T04:59:30.160771",
     "exception": false,
     "start_time": "2022-03-23T04:59:30.050392",
     "status": "completed"
    },
    "tags": []
   },
   "outputs": [
    {
     "data": {
      "text/plain": [
       "' '"
      ]
     },
     "execution_count": 10,
     "metadata": {},
     "output_type": "execute_result"
    }
   ],
   "source": [
    "df.iloc[488]['TotalCharges']"
   ]
  },
  {
   "cell_type": "markdown",
   "id": "395c64ba",
   "metadata": {
    "papermill": {
     "duration": 0.102693,
     "end_time": "2022-03-23T04:59:30.365545",
     "exception": false,
     "start_time": "2022-03-23T04:59:30.262852",
     "status": "completed"
    },
    "tags": []
   },
   "source": [
    "Filling all the Space characters with Median"
   ]
  },
  {
   "cell_type": "code",
   "execution_count": 11,
   "id": "dbd43883",
   "metadata": {
    "execution": {
     "iopub.execute_input": "2022-03-23T04:59:30.572424Z",
     "iopub.status.busy": "2022-03-23T04:59:30.571446Z",
     "iopub.status.idle": "2022-03-23T04:59:30.578610Z",
     "shell.execute_reply": "2022-03-23T04:59:30.579144Z",
     "shell.execute_reply.started": "2022-03-23T04:50:09.949767Z"
    },
    "papermill": {
     "duration": 0.112105,
     "end_time": "2022-03-23T04:59:30.579324",
     "exception": false,
     "start_time": "2022-03-23T04:59:30.467219",
     "status": "completed"
    },
    "tags": []
   },
   "outputs": [],
   "source": [
    "temp_df = df.drop(index=[488,753,936,1082,1340,3331,3826,4380,5218,6670,6754 ])"
   ]
  },
  {
   "cell_type": "code",
   "execution_count": 12,
   "id": "e8cb2d45",
   "metadata": {
    "execution": {
     "iopub.execute_input": "2022-03-23T04:59:30.785984Z",
     "iopub.status.busy": "2022-03-23T04:59:30.784975Z",
     "iopub.status.idle": "2022-03-23T04:59:30.791950Z",
     "shell.execute_reply": "2022-03-23T04:59:30.792534Z",
     "shell.execute_reply.started": "2022-03-23T04:50:09.962784Z"
    },
    "papermill": {
     "duration": 0.111868,
     "end_time": "2022-03-23T04:59:30.792706",
     "exception": false,
     "start_time": "2022-03-23T04:59:30.680838",
     "status": "completed"
    },
    "tags": []
   },
   "outputs": [],
   "source": [
    "temp_df['TotalCharges'] = temp_df['TotalCharges'].astype('float64')"
   ]
  },
  {
   "cell_type": "code",
   "execution_count": 13,
   "id": "a48391d6",
   "metadata": {
    "execution": {
     "iopub.execute_input": "2022-03-23T04:59:31.005261Z",
     "iopub.status.busy": "2022-03-23T04:59:31.004583Z",
     "iopub.status.idle": "2022-03-23T04:59:31.008478Z",
     "shell.execute_reply": "2022-03-23T04:59:31.008974Z",
     "shell.execute_reply.started": "2022-03-23T04:50:09.974773Z"
    },
    "papermill": {
     "duration": 0.112581,
     "end_time": "2022-03-23T04:59:31.009151",
     "exception": false,
     "start_time": "2022-03-23T04:59:30.896570",
     "status": "completed"
    },
    "tags": []
   },
   "outputs": [
    {
     "data": {
      "text/plain": [
       "customerID           object\n",
       "gender               object\n",
       "SeniorCitizen         int64\n",
       "Partner              object\n",
       "Dependents           object\n",
       "tenure                int64\n",
       "PhoneService         object\n",
       "MultipleLines        object\n",
       "InternetService      object\n",
       "OnlineSecurity       object\n",
       "OnlineBackup         object\n",
       "DeviceProtection     object\n",
       "TechSupport          object\n",
       "StreamingTV          object\n",
       "StreamingMovies      object\n",
       "Contract             object\n",
       "PaperlessBilling     object\n",
       "PaymentMethod        object\n",
       "MonthlyCharges      float64\n",
       "TotalCharges        float64\n",
       "Churn                object\n",
       "dtype: object"
      ]
     },
     "execution_count": 13,
     "metadata": {},
     "output_type": "execute_result"
    }
   ],
   "source": [
    "temp_df.dtypes"
   ]
  },
  {
   "cell_type": "code",
   "execution_count": 14,
   "id": "703d8fbc",
   "metadata": {
    "execution": {
     "iopub.execute_input": "2022-03-23T04:59:31.217872Z",
     "iopub.status.busy": "2022-03-23T04:59:31.217226Z",
     "iopub.status.idle": "2022-03-23T04:59:31.222346Z",
     "shell.execute_reply": "2022-03-23T04:59:31.222948Z",
     "shell.execute_reply.started": "2022-03-23T04:50:09.986466Z"
    },
    "papermill": {
     "duration": 0.110588,
     "end_time": "2022-03-23T04:59:31.223168",
     "exception": false,
     "start_time": "2022-03-23T04:59:31.112580",
     "status": "completed"
    },
    "tags": []
   },
   "outputs": [
    {
     "data": {
      "text/plain": [
       "1397.475"
      ]
     },
     "execution_count": 14,
     "metadata": {},
     "output_type": "execute_result"
    }
   ],
   "source": [
    "temp_df['TotalCharges'].median()"
   ]
  },
  {
   "cell_type": "markdown",
   "id": "80df9025",
   "metadata": {
    "papermill": {
     "duration": 0.102514,
     "end_time": "2022-03-23T04:59:31.429025",
     "exception": false,
     "start_time": "2022-03-23T04:59:31.326511",
     "status": "completed"
    },
    "tags": []
   },
   "source": [
    "Replacing space character with median on the rows found above"
   ]
  },
  {
   "cell_type": "code",
   "execution_count": 15,
   "id": "a7a28545",
   "metadata": {
    "execution": {
     "iopub.execute_input": "2022-03-23T04:59:31.635815Z",
     "iopub.status.busy": "2022-03-23T04:59:31.635177Z",
     "iopub.status.idle": "2022-03-23T04:59:31.644270Z",
     "shell.execute_reply": "2022-03-23T04:59:31.644793Z",
     "shell.execute_reply.started": "2022-03-23T04:50:09.999955Z"
    },
    "papermill": {
     "duration": 0.113919,
     "end_time": "2022-03-23T04:59:31.644978",
     "exception": false,
     "start_time": "2022-03-23T04:59:31.531059",
     "status": "completed"
    },
    "tags": []
   },
   "outputs": [
    {
     "data": {
      "text/plain": [
       "array(['29.85', '1889.5', '108.15', ..., '346.45', '306.6', '6844.5'],\n",
       "      dtype=object)"
      ]
     },
     "execution_count": 15,
     "metadata": {},
     "output_type": "execute_result"
    }
   ],
   "source": [
    "df['TotalCharges'].unique()"
   ]
  },
  {
   "cell_type": "code",
   "execution_count": 16,
   "id": "bfc11797",
   "metadata": {
    "execution": {
     "iopub.execute_input": "2022-03-23T04:59:31.851948Z",
     "iopub.status.busy": "2022-03-23T04:59:31.851314Z",
     "iopub.status.idle": "2022-03-23T04:59:31.859347Z",
     "shell.execute_reply": "2022-03-23T04:59:31.859833Z",
     "shell.execute_reply.started": "2022-03-23T04:50:10.013594Z"
    },
    "papermill": {
     "duration": 0.112988,
     "end_time": "2022-03-23T04:59:31.860017",
     "exception": false,
     "start_time": "2022-03-23T04:59:31.747029",
     "status": "completed"
    },
    "tags": []
   },
   "outputs": [
    {
     "name": "stderr",
     "output_type": "stream",
     "text": [
      "/opt/conda/lib/python3.7/site-packages/ipykernel_launcher.py:1: SettingWithCopyWarning: \n",
      "A value is trying to be set on a copy of a slice from a DataFrame\n",
      "\n",
      "See the caveats in the documentation: https://pandas.pydata.org/pandas-docs/stable/user_guide/indexing.html#returning-a-view-versus-a-copy\n",
      "  \"\"\"Entry point for launching an IPython kernel.\n"
     ]
    }
   ],
   "source": [
    "df['TotalCharges'][ df['TotalCharges'] == ' ' ] = 1397.475"
   ]
  },
  {
   "cell_type": "code",
   "execution_count": 17,
   "id": "cfc253ce",
   "metadata": {
    "execution": {
     "iopub.execute_input": "2022-03-23T04:59:32.075599Z",
     "iopub.status.busy": "2022-03-23T04:59:32.074901Z",
     "iopub.status.idle": "2022-03-23T04:59:32.077485Z",
     "shell.execute_reply": "2022-03-23T04:59:32.077987Z",
     "shell.execute_reply.started": "2022-03-23T04:50:10.027367Z"
    },
    "papermill": {
     "duration": 0.112771,
     "end_time": "2022-03-23T04:59:32.078156",
     "exception": false,
     "start_time": "2022-03-23T04:59:31.965385",
     "status": "completed"
    },
    "tags": []
   },
   "outputs": [
    {
     "data": {
      "text/plain": [
       "1397.475"
      ]
     },
     "execution_count": 17,
     "metadata": {},
     "output_type": "execute_result"
    }
   ],
   "source": [
    "df['TotalCharges'].iloc[488]\n",
    "\n",
    "# As we can see the rows having space character are now filled with median"
   ]
  },
  {
   "cell_type": "code",
   "execution_count": 18,
   "id": "ff59fa23",
   "metadata": {
    "execution": {
     "iopub.execute_input": "2022-03-23T04:59:32.288641Z",
     "iopub.status.busy": "2022-03-23T04:59:32.287996Z",
     "iopub.status.idle": "2022-03-23T04:59:32.295267Z",
     "shell.execute_reply": "2022-03-23T04:59:32.295817Z",
     "shell.execute_reply.started": "2022-03-23T04:50:10.040691Z"
    },
    "papermill": {
     "duration": 0.114201,
     "end_time": "2022-03-23T04:59:32.296002",
     "exception": false,
     "start_time": "2022-03-23T04:59:32.181801",
     "status": "completed"
    },
    "tags": []
   },
   "outputs": [],
   "source": [
    "df['TotalCharges'] = df['TotalCharges'].astype('float64')"
   ]
  },
  {
   "cell_type": "markdown",
   "id": "6fc015df",
   "metadata": {
    "papermill": {
     "duration": 0.104747,
     "end_time": "2022-03-23T04:59:32.505713",
     "exception": false,
     "start_time": "2022-03-23T04:59:32.400966",
     "status": "completed"
    },
    "tags": []
   },
   "source": [
    "TotalCharges have been converted to float type"
   ]
  },
  {
   "cell_type": "code",
   "execution_count": 19,
   "id": "e919b270",
   "metadata": {
    "execution": {
     "iopub.execute_input": "2022-03-23T04:59:32.719027Z",
     "iopub.status.busy": "2022-03-23T04:59:32.718346Z",
     "iopub.status.idle": "2022-03-23T04:59:32.724688Z",
     "shell.execute_reply": "2022-03-23T04:59:32.725277Z",
     "shell.execute_reply.started": "2022-03-23T04:50:10.053958Z"
    },
    "papermill": {
     "duration": 0.115585,
     "end_time": "2022-03-23T04:59:32.725453",
     "exception": false,
     "start_time": "2022-03-23T04:59:32.609868",
     "status": "completed"
    },
    "tags": []
   },
   "outputs": [
    {
     "data": {
      "text/plain": [
       "customerID           object\n",
       "gender               object\n",
       "SeniorCitizen         int64\n",
       "Partner              object\n",
       "Dependents           object\n",
       "tenure                int64\n",
       "PhoneService         object\n",
       "MultipleLines        object\n",
       "InternetService      object\n",
       "OnlineSecurity       object\n",
       "OnlineBackup         object\n",
       "DeviceProtection     object\n",
       "TechSupport          object\n",
       "StreamingTV          object\n",
       "StreamingMovies      object\n",
       "Contract             object\n",
       "PaperlessBilling     object\n",
       "PaymentMethod        object\n",
       "MonthlyCharges      float64\n",
       "TotalCharges        float64\n",
       "Churn                object\n",
       "dtype: object"
      ]
     },
     "execution_count": 19,
     "metadata": {},
     "output_type": "execute_result"
    }
   ],
   "source": [
    "df.dtypes"
   ]
  },
  {
   "cell_type": "markdown",
   "id": "f1f6d38f",
   "metadata": {
    "papermill": {
     "duration": 0.103413,
     "end_time": "2022-03-23T04:59:32.935420",
     "exception": false,
     "start_time": "2022-03-23T04:59:32.832007",
     "status": "completed"
    },
    "tags": []
   },
   "source": [
    "Warnings Suppression"
   ]
  },
  {
   "cell_type": "code",
   "execution_count": 20,
   "id": "30ad2ed4",
   "metadata": {
    "execution": {
     "iopub.execute_input": "2022-03-23T04:59:33.151217Z",
     "iopub.status.busy": "2022-03-23T04:59:33.150539Z",
     "iopub.status.idle": "2022-03-23T04:59:33.153567Z",
     "shell.execute_reply": "2022-03-23T04:59:33.154045Z",
     "shell.execute_reply.started": "2022-03-23T04:50:10.064922Z"
    },
    "papermill": {
     "duration": 0.111063,
     "end_time": "2022-03-23T04:59:33.154252",
     "exception": false,
     "start_time": "2022-03-23T04:59:33.043189",
     "status": "completed"
    },
    "tags": []
   },
   "outputs": [],
   "source": [
    "import warnings\n",
    "warnings.filterwarnings('ignore')"
   ]
  },
  {
   "cell_type": "markdown",
   "id": "8f28a801",
   "metadata": {
    "papermill": {
     "duration": 0.102944,
     "end_time": "2022-03-23T04:59:33.363067",
     "exception": false,
     "start_time": "2022-03-23T04:59:33.260123",
     "status": "completed"
    },
    "tags": []
   },
   "source": []
  },
  {
   "cell_type": "markdown",
   "id": "92c30754",
   "metadata": {
    "papermill": {
     "duration": 0.106689,
     "end_time": "2022-03-23T04:59:33.573881",
     "exception": false,
     "start_time": "2022-03-23T04:59:33.467192",
     "status": "completed"
    },
    "tags": []
   },
   "source": [
    "## Drop ID Feature from the dataset"
   ]
  },
  {
   "cell_type": "code",
   "execution_count": 21,
   "id": "a9c6584a",
   "metadata": {
    "execution": {
     "iopub.execute_input": "2022-03-23T04:59:33.786532Z",
     "iopub.status.busy": "2022-03-23T04:59:33.785572Z",
     "iopub.status.idle": "2022-03-23T04:59:33.792317Z",
     "shell.execute_reply": "2022-03-23T04:59:33.792907Z",
     "shell.execute_reply.started": "2022-03-23T04:50:10.073016Z"
    },
    "papermill": {
     "duration": 0.1157,
     "end_time": "2022-03-23T04:59:33.793115",
     "exception": false,
     "start_time": "2022-03-23T04:59:33.677415",
     "status": "completed"
    },
    "tags": []
   },
   "outputs": [],
   "source": [
    "df = df.drop(['customerID'], axis=1)"
   ]
  },
  {
   "cell_type": "markdown",
   "id": "4b961a71",
   "metadata": {
    "papermill": {
     "duration": 0.105731,
     "end_time": "2022-03-23T04:59:34.004242",
     "exception": false,
     "start_time": "2022-03-23T04:59:33.898511",
     "status": "completed"
    },
    "tags": []
   },
   "source": [
    "## Label the Churn feature to 1/0"
   ]
  },
  {
   "cell_type": "code",
   "execution_count": 22,
   "id": "a95f95fd",
   "metadata": {
    "execution": {
     "iopub.execute_input": "2022-03-23T04:59:34.222368Z",
     "iopub.status.busy": "2022-03-23T04:59:34.221384Z",
     "iopub.status.idle": "2022-03-23T04:59:34.224821Z",
     "shell.execute_reply": "2022-03-23T04:59:34.225328Z",
     "shell.execute_reply.started": "2022-03-23T04:50:10.087197Z"
    },
    "papermill": {
     "duration": 0.11775,
     "end_time": "2022-03-23T04:59:34.225496",
     "exception": false,
     "start_time": "2022-03-23T04:59:34.107746",
     "status": "completed"
    },
    "tags": []
   },
   "outputs": [
    {
     "data": {
      "text/plain": [
       "No     5174\n",
       "Yes    1869\n",
       "Name: Churn, dtype: int64"
      ]
     },
     "execution_count": 22,
     "metadata": {},
     "output_type": "execute_result"
    }
   ],
   "source": [
    "df['Churn'].value_counts()"
   ]
  },
  {
   "cell_type": "code",
   "execution_count": 23,
   "id": "3590acc7",
   "metadata": {
    "execution": {
     "iopub.execute_input": "2022-03-23T04:59:34.437571Z",
     "iopub.status.busy": "2022-03-23T04:59:34.436610Z",
     "iopub.status.idle": "2022-03-23T04:59:34.442546Z",
     "shell.execute_reply": "2022-03-23T04:59:34.443034Z",
     "shell.execute_reply.started": "2022-03-23T04:50:10.099950Z"
    },
    "papermill": {
     "duration": 0.113138,
     "end_time": "2022-03-23T04:59:34.443213",
     "exception": false,
     "start_time": "2022-03-23T04:59:34.330075",
     "status": "completed"
    },
    "tags": []
   },
   "outputs": [],
   "source": [
    "df['target'] = np.where(df['Churn']=='Yes', 1, 0)"
   ]
  },
  {
   "cell_type": "markdown",
   "id": "91971dbb",
   "metadata": {
    "papermill": {
     "duration": 0.10362,
     "end_time": "2022-03-23T04:59:34.651092",
     "exception": false,
     "start_time": "2022-03-23T04:59:34.547472",
     "status": "completed"
    },
    "tags": []
   },
   "source": [
    "## Drop the Churn feature to retain only Target"
   ]
  },
  {
   "cell_type": "code",
   "execution_count": 24,
   "id": "15c33e5d",
   "metadata": {
    "execution": {
     "iopub.execute_input": "2022-03-23T04:59:34.865193Z",
     "iopub.status.busy": "2022-03-23T04:59:34.864188Z",
     "iopub.status.idle": "2022-03-23T04:59:34.870442Z",
     "shell.execute_reply": "2022-03-23T04:59:34.870908Z",
     "shell.execute_reply.started": "2022-03-23T04:50:10.107097Z"
    },
    "papermill": {
     "duration": 0.114224,
     "end_time": "2022-03-23T04:59:34.871109",
     "exception": false,
     "start_time": "2022-03-23T04:59:34.756885",
     "status": "completed"
    },
    "tags": []
   },
   "outputs": [],
   "source": [
    "df=df.drop(['Churn'],axis=1)"
   ]
  },
  {
   "cell_type": "markdown",
   "id": "86948a8c",
   "metadata": {
    "papermill": {
     "duration": 0.106277,
     "end_time": "2022-03-23T04:59:35.081739",
     "exception": false,
     "start_time": "2022-03-23T04:59:34.975462",
     "status": "completed"
    },
    "tags": []
   },
   "source": [
    "## Defining Target and Independent Features"
   ]
  },
  {
   "cell_type": "code",
   "execution_count": 25,
   "id": "5f48e4b3",
   "metadata": {
    "execution": {
     "iopub.execute_input": "2022-03-23T04:59:35.298462Z",
     "iopub.status.busy": "2022-03-23T04:59:35.297768Z",
     "iopub.status.idle": "2022-03-23T04:59:35.301676Z",
     "shell.execute_reply": "2022-03-23T04:59:35.302279Z",
     "shell.execute_reply.started": "2022-03-23T04:50:10.121857Z"
    },
    "papermill": {
     "duration": 0.115811,
     "end_time": "2022-03-23T04:59:35.302453",
     "exception": false,
     "start_time": "2022-03-23T04:59:35.186642",
     "status": "completed"
    },
    "tags": []
   },
   "outputs": [],
   "source": [
    "Y = df[['target']]\n",
    "X = df.drop(['target'], axis=1)"
   ]
  },
  {
   "cell_type": "markdown",
   "id": "78a50e4b",
   "metadata": {
    "papermill": {
     "duration": 0.10666,
     "end_time": "2022-03-23T04:59:35.514146",
     "exception": false,
     "start_time": "2022-03-23T04:59:35.407486",
     "status": "completed"
    },
    "tags": []
   },
   "source": [
    "## Get the Churn Rate"
   ]
  },
  {
   "cell_type": "code",
   "execution_count": 26,
   "id": "c861ba93",
   "metadata": {
    "execution": {
     "iopub.execute_input": "2022-03-23T04:59:35.726432Z",
     "iopub.status.busy": "2022-03-23T04:59:35.725732Z",
     "iopub.status.idle": "2022-03-23T04:59:35.733549Z",
     "shell.execute_reply": "2022-03-23T04:59:35.732995Z",
     "shell.execute_reply.started": "2022-03-23T04:50:10.132721Z"
    },
    "papermill": {
     "duration": 0.115424,
     "end_time": "2022-03-23T04:59:35.733696",
     "exception": false,
     "start_time": "2022-03-23T04:59:35.618272",
     "status": "completed"
    },
    "tags": []
   },
   "outputs": [
    {
     "data": {
      "text/plain": [
       "target    0.26537\n",
       "dtype: float64"
      ]
     },
     "execution_count": 26,
     "metadata": {},
     "output_type": "execute_result"
    }
   ],
   "source": [
    "Y.mean()"
   ]
  },
  {
   "cell_type": "markdown",
   "id": "bdff3f92",
   "metadata": {
    "papermill": {
     "duration": 0.104112,
     "end_time": "2022-03-23T04:59:35.942501",
     "exception": false,
     "start_time": "2022-03-23T04:59:35.838389",
     "status": "completed"
    },
    "tags": []
   },
   "source": [
    "## Split features into Numerical and Categorical"
   ]
  },
  {
   "cell_type": "markdown",
   "id": "03f0cd3e",
   "metadata": {
    "papermill": {
     "duration": 0.104257,
     "end_time": "2022-03-23T04:59:36.155405",
     "exception": false,
     "start_time": "2022-03-23T04:59:36.051148",
     "status": "completed"
    },
    "tags": []
   },
   "source": []
  },
  {
   "cell_type": "code",
   "execution_count": 27,
   "id": "bc11059a",
   "metadata": {
    "execution": {
     "iopub.execute_input": "2022-03-23T04:59:36.368128Z",
     "iopub.status.busy": "2022-03-23T04:59:36.367451Z",
     "iopub.status.idle": "2022-03-23T04:59:36.374416Z",
     "shell.execute_reply": "2022-03-23T04:59:36.374901Z",
     "shell.execute_reply.started": "2022-03-23T04:50:10.145359Z"
    },
    "papermill": {
     "duration": 0.114579,
     "end_time": "2022-03-23T04:59:36.375119",
     "exception": false,
     "start_time": "2022-03-23T04:59:36.260540",
     "status": "completed"
    },
    "tags": []
   },
   "outputs": [],
   "source": [
    "num = X.select_dtypes(include = 'number')\n",
    "char = X.select_dtypes(include = 'object')"
   ]
  },
  {
   "cell_type": "code",
   "execution_count": 28,
   "id": "4e8c6274",
   "metadata": {
    "execution": {
     "iopub.execute_input": "2022-03-23T04:59:36.610428Z",
     "iopub.status.busy": "2022-03-23T04:59:36.609724Z",
     "iopub.status.idle": "2022-03-23T04:59:36.620719Z",
     "shell.execute_reply": "2022-03-23T04:59:36.621263Z",
     "shell.execute_reply.started": "2022-03-23T04:50:10.156864Z"
    },
    "papermill": {
     "duration": 0.141655,
     "end_time": "2022-03-23T04:59:36.621466",
     "exception": false,
     "start_time": "2022-03-23T04:59:36.479811",
     "status": "completed"
    },
    "tags": []
   },
   "outputs": [
    {
     "data": {
      "text/html": [
       "<div>\n",
       "<style scoped>\n",
       "    .dataframe tbody tr th:only-of-type {\n",
       "        vertical-align: middle;\n",
       "    }\n",
       "\n",
       "    .dataframe tbody tr th {\n",
       "        vertical-align: top;\n",
       "    }\n",
       "\n",
       "    .dataframe thead th {\n",
       "        text-align: right;\n",
       "    }\n",
       "</style>\n",
       "<table border=\"1\" class=\"dataframe\">\n",
       "  <thead>\n",
       "    <tr style=\"text-align: right;\">\n",
       "      <th></th>\n",
       "      <th>SeniorCitizen</th>\n",
       "      <th>tenure</th>\n",
       "      <th>MonthlyCharges</th>\n",
       "      <th>TotalCharges</th>\n",
       "    </tr>\n",
       "  </thead>\n",
       "  <tbody>\n",
       "    <tr>\n",
       "      <th>7038</th>\n",
       "      <td>0</td>\n",
       "      <td>24</td>\n",
       "      <td>84.80</td>\n",
       "      <td>1990.50</td>\n",
       "    </tr>\n",
       "    <tr>\n",
       "      <th>7039</th>\n",
       "      <td>0</td>\n",
       "      <td>72</td>\n",
       "      <td>103.20</td>\n",
       "      <td>7362.90</td>\n",
       "    </tr>\n",
       "    <tr>\n",
       "      <th>7040</th>\n",
       "      <td>0</td>\n",
       "      <td>11</td>\n",
       "      <td>29.60</td>\n",
       "      <td>346.45</td>\n",
       "    </tr>\n",
       "    <tr>\n",
       "      <th>7041</th>\n",
       "      <td>1</td>\n",
       "      <td>4</td>\n",
       "      <td>74.40</td>\n",
       "      <td>306.60</td>\n",
       "    </tr>\n",
       "    <tr>\n",
       "      <th>7042</th>\n",
       "      <td>0</td>\n",
       "      <td>66</td>\n",
       "      <td>105.65</td>\n",
       "      <td>6844.50</td>\n",
       "    </tr>\n",
       "  </tbody>\n",
       "</table>\n",
       "</div>"
      ],
      "text/plain": [
       "      SeniorCitizen  tenure  MonthlyCharges  TotalCharges\n",
       "7038              0      24           84.80       1990.50\n",
       "7039              0      72          103.20       7362.90\n",
       "7040              0      11           29.60        346.45\n",
       "7041              1       4           74.40        306.60\n",
       "7042              0      66          105.65       6844.50"
      ]
     },
     "execution_count": 28,
     "metadata": {},
     "output_type": "execute_result"
    }
   ],
   "source": [
    "num.tail()"
   ]
  },
  {
   "cell_type": "code",
   "execution_count": 29,
   "id": "75fadeae",
   "metadata": {
    "execution": {
     "iopub.execute_input": "2022-03-23T04:59:36.837994Z",
     "iopub.status.busy": "2022-03-23T04:59:36.837353Z",
     "iopub.status.idle": "2022-03-23T04:59:36.860279Z",
     "shell.execute_reply": "2022-03-23T04:59:36.860823Z",
     "shell.execute_reply.started": "2022-03-23T04:50:10.173489Z"
    },
    "papermill": {
     "duration": 0.132729,
     "end_time": "2022-03-23T04:59:36.861028",
     "exception": false,
     "start_time": "2022-03-23T04:59:36.728299",
     "status": "completed"
    },
    "tags": []
   },
   "outputs": [
    {
     "data": {
      "text/html": [
       "<div>\n",
       "<style scoped>\n",
       "    .dataframe tbody tr th:only-of-type {\n",
       "        vertical-align: middle;\n",
       "    }\n",
       "\n",
       "    .dataframe tbody tr th {\n",
       "        vertical-align: top;\n",
       "    }\n",
       "\n",
       "    .dataframe thead th {\n",
       "        text-align: right;\n",
       "    }\n",
       "</style>\n",
       "<table border=\"1\" class=\"dataframe\">\n",
       "  <thead>\n",
       "    <tr style=\"text-align: right;\">\n",
       "      <th></th>\n",
       "      <th>SeniorCitizen</th>\n",
       "      <th>tenure</th>\n",
       "      <th>MonthlyCharges</th>\n",
       "      <th>TotalCharges</th>\n",
       "    </tr>\n",
       "  </thead>\n",
       "  <tbody>\n",
       "    <tr>\n",
       "      <th>count</th>\n",
       "      <td>7043.000000</td>\n",
       "      <td>7043.000000</td>\n",
       "      <td>7043.000000</td>\n",
       "      <td>7043.000000</td>\n",
       "    </tr>\n",
       "    <tr>\n",
       "      <th>mean</th>\n",
       "      <td>0.162147</td>\n",
       "      <td>32.371149</td>\n",
       "      <td>64.761692</td>\n",
       "      <td>2281.916928</td>\n",
       "    </tr>\n",
       "    <tr>\n",
       "      <th>std</th>\n",
       "      <td>0.368612</td>\n",
       "      <td>24.559481</td>\n",
       "      <td>30.090047</td>\n",
       "      <td>2265.270398</td>\n",
       "    </tr>\n",
       "    <tr>\n",
       "      <th>min</th>\n",
       "      <td>0.000000</td>\n",
       "      <td>0.000000</td>\n",
       "      <td>18.250000</td>\n",
       "      <td>18.800000</td>\n",
       "    </tr>\n",
       "    <tr>\n",
       "      <th>25%</th>\n",
       "      <td>0.000000</td>\n",
       "      <td>9.000000</td>\n",
       "      <td>35.500000</td>\n",
       "      <td>402.225000</td>\n",
       "    </tr>\n",
       "    <tr>\n",
       "      <th>50%</th>\n",
       "      <td>0.000000</td>\n",
       "      <td>29.000000</td>\n",
       "      <td>70.350000</td>\n",
       "      <td>1397.475000</td>\n",
       "    </tr>\n",
       "    <tr>\n",
       "      <th>75%</th>\n",
       "      <td>0.000000</td>\n",
       "      <td>55.000000</td>\n",
       "      <td>89.850000</td>\n",
       "      <td>3786.600000</td>\n",
       "    </tr>\n",
       "    <tr>\n",
       "      <th>max</th>\n",
       "      <td>1.000000</td>\n",
       "      <td>72.000000</td>\n",
       "      <td>118.750000</td>\n",
       "      <td>8684.800000</td>\n",
       "    </tr>\n",
       "  </tbody>\n",
       "</table>\n",
       "</div>"
      ],
      "text/plain": [
       "       SeniorCitizen       tenure  MonthlyCharges  TotalCharges\n",
       "count    7043.000000  7043.000000     7043.000000   7043.000000\n",
       "mean        0.162147    32.371149       64.761692   2281.916928\n",
       "std         0.368612    24.559481       30.090047   2265.270398\n",
       "min         0.000000     0.000000       18.250000     18.800000\n",
       "25%         0.000000     9.000000       35.500000    402.225000\n",
       "50%         0.000000    29.000000       70.350000   1397.475000\n",
       "75%         0.000000    55.000000       89.850000   3786.600000\n",
       "max         1.000000    72.000000      118.750000   8684.800000"
      ]
     },
     "execution_count": 29,
     "metadata": {},
     "output_type": "execute_result"
    }
   ],
   "source": [
    "num.describe()"
   ]
  },
  {
   "cell_type": "code",
   "execution_count": 30,
   "id": "978eb11a",
   "metadata": {
    "execution": {
     "iopub.execute_input": "2022-03-23T04:59:37.079182Z",
     "iopub.status.busy": "2022-03-23T04:59:37.078575Z",
     "iopub.status.idle": "2022-03-23T04:59:37.084903Z",
     "shell.execute_reply": "2022-03-23T04:59:37.085505Z",
     "shell.execute_reply.started": "2022-03-23T04:50:10.202536Z"
    },
    "papermill": {
     "duration": 0.116006,
     "end_time": "2022-03-23T04:59:37.085669",
     "exception": false,
     "start_time": "2022-03-23T04:59:36.969663",
     "status": "completed"
    },
    "tags": []
   },
   "outputs": [
    {
     "data": {
      "text/plain": [
       "0    5901\n",
       "1    1142\n",
       "Name: SeniorCitizen, dtype: int64"
      ]
     },
     "execution_count": 30,
     "metadata": {},
     "output_type": "execute_result"
    }
   ],
   "source": [
    "#Check whether SeniorCitizen feature is an indicator\n",
    "\n",
    "num.SeniorCitizen.value_counts()"
   ]
  },
  {
   "cell_type": "code",
   "execution_count": 31,
   "id": "0e829ede",
   "metadata": {
    "execution": {
     "iopub.execute_input": "2022-03-23T04:59:37.300774Z",
     "iopub.status.busy": "2022-03-23T04:59:37.300151Z",
     "iopub.status.idle": "2022-03-23T04:59:37.316545Z",
     "shell.execute_reply": "2022-03-23T04:59:37.317143Z",
     "shell.execute_reply.started": "2022-03-23T04:50:10.212053Z"
    },
    "papermill": {
     "duration": 0.125042,
     "end_time": "2022-03-23T04:59:37.317324",
     "exception": false,
     "start_time": "2022-03-23T04:59:37.192282",
     "status": "completed"
    },
    "tags": []
   },
   "outputs": [
    {
     "data": {
      "text/html": [
       "<div>\n",
       "<style scoped>\n",
       "    .dataframe tbody tr th:only-of-type {\n",
       "        vertical-align: middle;\n",
       "    }\n",
       "\n",
       "    .dataframe tbody tr th {\n",
       "        vertical-align: top;\n",
       "    }\n",
       "\n",
       "    .dataframe thead th {\n",
       "        text-align: right;\n",
       "    }\n",
       "</style>\n",
       "<table border=\"1\" class=\"dataframe\">\n",
       "  <thead>\n",
       "    <tr style=\"text-align: right;\">\n",
       "      <th></th>\n",
       "      <th>gender</th>\n",
       "      <th>Partner</th>\n",
       "      <th>Dependents</th>\n",
       "      <th>PhoneService</th>\n",
       "      <th>MultipleLines</th>\n",
       "      <th>InternetService</th>\n",
       "      <th>OnlineSecurity</th>\n",
       "      <th>OnlineBackup</th>\n",
       "      <th>DeviceProtection</th>\n",
       "      <th>TechSupport</th>\n",
       "      <th>StreamingTV</th>\n",
       "      <th>StreamingMovies</th>\n",
       "      <th>Contract</th>\n",
       "      <th>PaperlessBilling</th>\n",
       "      <th>PaymentMethod</th>\n",
       "    </tr>\n",
       "  </thead>\n",
       "  <tbody>\n",
       "    <tr>\n",
       "      <th>0</th>\n",
       "      <td>Female</td>\n",
       "      <td>Yes</td>\n",
       "      <td>No</td>\n",
       "      <td>No</td>\n",
       "      <td>No phone service</td>\n",
       "      <td>DSL</td>\n",
       "      <td>No</td>\n",
       "      <td>Yes</td>\n",
       "      <td>No</td>\n",
       "      <td>No</td>\n",
       "      <td>No</td>\n",
       "      <td>No</td>\n",
       "      <td>Month-to-month</td>\n",
       "      <td>Yes</td>\n",
       "      <td>Electronic check</td>\n",
       "    </tr>\n",
       "    <tr>\n",
       "      <th>1</th>\n",
       "      <td>Male</td>\n",
       "      <td>No</td>\n",
       "      <td>No</td>\n",
       "      <td>Yes</td>\n",
       "      <td>No</td>\n",
       "      <td>DSL</td>\n",
       "      <td>Yes</td>\n",
       "      <td>No</td>\n",
       "      <td>Yes</td>\n",
       "      <td>No</td>\n",
       "      <td>No</td>\n",
       "      <td>No</td>\n",
       "      <td>One year</td>\n",
       "      <td>No</td>\n",
       "      <td>Mailed check</td>\n",
       "    </tr>\n",
       "    <tr>\n",
       "      <th>2</th>\n",
       "      <td>Male</td>\n",
       "      <td>No</td>\n",
       "      <td>No</td>\n",
       "      <td>Yes</td>\n",
       "      <td>No</td>\n",
       "      <td>DSL</td>\n",
       "      <td>Yes</td>\n",
       "      <td>Yes</td>\n",
       "      <td>No</td>\n",
       "      <td>No</td>\n",
       "      <td>No</td>\n",
       "      <td>No</td>\n",
       "      <td>Month-to-month</td>\n",
       "      <td>Yes</td>\n",
       "      <td>Mailed check</td>\n",
       "    </tr>\n",
       "    <tr>\n",
       "      <th>3</th>\n",
       "      <td>Male</td>\n",
       "      <td>No</td>\n",
       "      <td>No</td>\n",
       "      <td>No</td>\n",
       "      <td>No phone service</td>\n",
       "      <td>DSL</td>\n",
       "      <td>Yes</td>\n",
       "      <td>No</td>\n",
       "      <td>Yes</td>\n",
       "      <td>Yes</td>\n",
       "      <td>No</td>\n",
       "      <td>No</td>\n",
       "      <td>One year</td>\n",
       "      <td>No</td>\n",
       "      <td>Bank transfer (automatic)</td>\n",
       "    </tr>\n",
       "    <tr>\n",
       "      <th>4</th>\n",
       "      <td>Female</td>\n",
       "      <td>No</td>\n",
       "      <td>No</td>\n",
       "      <td>Yes</td>\n",
       "      <td>No</td>\n",
       "      <td>Fiber optic</td>\n",
       "      <td>No</td>\n",
       "      <td>No</td>\n",
       "      <td>No</td>\n",
       "      <td>No</td>\n",
       "      <td>No</td>\n",
       "      <td>No</td>\n",
       "      <td>Month-to-month</td>\n",
       "      <td>Yes</td>\n",
       "      <td>Electronic check</td>\n",
       "    </tr>\n",
       "  </tbody>\n",
       "</table>\n",
       "</div>"
      ],
      "text/plain": [
       "   gender Partner Dependents PhoneService     MultipleLines InternetService  \\\n",
       "0  Female     Yes         No           No  No phone service             DSL   \n",
       "1    Male      No         No          Yes                No             DSL   \n",
       "2    Male      No         No          Yes                No             DSL   \n",
       "3    Male      No         No           No  No phone service             DSL   \n",
       "4  Female      No         No          Yes                No     Fiber optic   \n",
       "\n",
       "  OnlineSecurity OnlineBackup DeviceProtection TechSupport StreamingTV  \\\n",
       "0             No          Yes               No          No          No   \n",
       "1            Yes           No              Yes          No          No   \n",
       "2            Yes          Yes               No          No          No   \n",
       "3            Yes           No              Yes         Yes          No   \n",
       "4             No           No               No          No          No   \n",
       "\n",
       "  StreamingMovies        Contract PaperlessBilling              PaymentMethod  \n",
       "0              No  Month-to-month              Yes           Electronic check  \n",
       "1              No        One year               No               Mailed check  \n",
       "2              No  Month-to-month              Yes               Mailed check  \n",
       "3              No        One year               No  Bank transfer (automatic)  \n",
       "4              No  Month-to-month              Yes           Electronic check  "
      ]
     },
     "execution_count": 31,
     "metadata": {},
     "output_type": "execute_result"
    }
   ],
   "source": [
    "char.head()"
   ]
  },
  {
   "cell_type": "markdown",
   "id": "a7caee73",
   "metadata": {
    "papermill": {
     "duration": 0.105887,
     "end_time": "2022-03-23T04:59:37.529412",
     "exception": false,
     "start_time": "2022-03-23T04:59:37.423525",
     "status": "completed"
    },
    "tags": []
   },
   "source": [
    "## Dropping the indicator features from num to build a separate DF"
   ]
  },
  {
   "cell_type": "code",
   "execution_count": 32,
   "id": "ec256ed1",
   "metadata": {
    "execution": {
     "iopub.execute_input": "2022-03-23T04:59:37.745412Z",
     "iopub.status.busy": "2022-03-23T04:59:37.744750Z",
     "iopub.status.idle": "2022-03-23T04:59:37.749645Z",
     "shell.execute_reply": "2022-03-23T04:59:37.750239Z",
     "shell.execute_reply.started": "2022-03-23T04:50:10.235814Z"
    },
    "papermill": {
     "duration": 0.114321,
     "end_time": "2022-03-23T04:59:37.750419",
     "exception": false,
     "start_time": "2022-03-23T04:59:37.636098",
     "status": "completed"
    },
    "tags": []
   },
   "outputs": [],
   "source": [
    "ind=num[['SeniorCitizen']]\n",
    "num=num.drop(['SeniorCitizen'],axis=1)"
   ]
  },
  {
   "cell_type": "markdown",
   "id": "009f2e4e",
   "metadata": {
    "papermill": {
     "duration": 0.10906,
     "end_time": "2022-03-23T04:59:37.966816",
     "exception": false,
     "start_time": "2022-03-23T04:59:37.857756",
     "status": "completed"
    },
    "tags": []
   },
   "source": [
    "## Outlier Analysis of Numerical Features"
   ]
  },
  {
   "cell_type": "code",
   "execution_count": 33,
   "id": "053dfbc1",
   "metadata": {
    "execution": {
     "iopub.execute_input": "2022-03-23T04:59:38.189312Z",
     "iopub.status.busy": "2022-03-23T04:59:38.186965Z",
     "iopub.status.idle": "2022-03-23T04:59:38.205599Z",
     "shell.execute_reply": "2022-03-23T04:59:38.206103Z",
     "shell.execute_reply.started": "2022-03-23T04:50:10.245621Z"
    },
    "papermill": {
     "duration": 0.130835,
     "end_time": "2022-03-23T04:59:38.206275",
     "exception": false,
     "start_time": "2022-03-23T04:59:38.075440",
     "status": "completed"
    },
    "tags": []
   },
   "outputs": [
    {
     "data": {
      "text/html": [
       "<div>\n",
       "<style scoped>\n",
       "    .dataframe tbody tr th:only-of-type {\n",
       "        vertical-align: middle;\n",
       "    }\n",
       "\n",
       "    .dataframe tbody tr th {\n",
       "        vertical-align: top;\n",
       "    }\n",
       "\n",
       "    .dataframe thead th {\n",
       "        text-align: right;\n",
       "    }\n",
       "</style>\n",
       "<table border=\"1\" class=\"dataframe\">\n",
       "  <thead>\n",
       "    <tr style=\"text-align: right;\">\n",
       "      <th></th>\n",
       "      <th>tenure</th>\n",
       "      <th>MonthlyCharges</th>\n",
       "      <th>TotalCharges</th>\n",
       "    </tr>\n",
       "  </thead>\n",
       "  <tbody>\n",
       "    <tr>\n",
       "      <th>count</th>\n",
       "      <td>7043.000000</td>\n",
       "      <td>7043.000000</td>\n",
       "      <td>7043.000000</td>\n",
       "    </tr>\n",
       "    <tr>\n",
       "      <th>mean</th>\n",
       "      <td>32.371149</td>\n",
       "      <td>64.761692</td>\n",
       "      <td>2281.916928</td>\n",
       "    </tr>\n",
       "    <tr>\n",
       "      <th>std</th>\n",
       "      <td>24.559481</td>\n",
       "      <td>30.090047</td>\n",
       "      <td>2265.270398</td>\n",
       "    </tr>\n",
       "    <tr>\n",
       "      <th>min</th>\n",
       "      <td>0.000000</td>\n",
       "      <td>18.250000</td>\n",
       "      <td>18.800000</td>\n",
       "    </tr>\n",
       "    <tr>\n",
       "      <th>1%</th>\n",
       "      <td>1.000000</td>\n",
       "      <td>19.200000</td>\n",
       "      <td>19.900000</td>\n",
       "    </tr>\n",
       "    <tr>\n",
       "      <th>5%</th>\n",
       "      <td>1.000000</td>\n",
       "      <td>19.650000</td>\n",
       "      <td>49.650000</td>\n",
       "    </tr>\n",
       "    <tr>\n",
       "      <th>10%</th>\n",
       "      <td>2.000000</td>\n",
       "      <td>20.050000</td>\n",
       "      <td>84.610000</td>\n",
       "    </tr>\n",
       "    <tr>\n",
       "      <th>25%</th>\n",
       "      <td>9.000000</td>\n",
       "      <td>35.500000</td>\n",
       "      <td>402.225000</td>\n",
       "    </tr>\n",
       "    <tr>\n",
       "      <th>50%</th>\n",
       "      <td>29.000000</td>\n",
       "      <td>70.350000</td>\n",
       "      <td>1397.475000</td>\n",
       "    </tr>\n",
       "    <tr>\n",
       "      <th>75%</th>\n",
       "      <td>55.000000</td>\n",
       "      <td>89.850000</td>\n",
       "      <td>3786.600000</td>\n",
       "    </tr>\n",
       "    <tr>\n",
       "      <th>85%</th>\n",
       "      <td>65.000000</td>\n",
       "      <td>98.550000</td>\n",
       "      <td>5195.485000</td>\n",
       "    </tr>\n",
       "    <tr>\n",
       "      <th>90%</th>\n",
       "      <td>69.000000</td>\n",
       "      <td>102.600000</td>\n",
       "      <td>5973.690000</td>\n",
       "    </tr>\n",
       "    <tr>\n",
       "      <th>99%</th>\n",
       "      <td>72.000000</td>\n",
       "      <td>114.729000</td>\n",
       "      <td>8039.256000</td>\n",
       "    </tr>\n",
       "    <tr>\n",
       "      <th>max</th>\n",
       "      <td>72.000000</td>\n",
       "      <td>118.750000</td>\n",
       "      <td>8684.800000</td>\n",
       "    </tr>\n",
       "  </tbody>\n",
       "</table>\n",
       "</div>"
      ],
      "text/plain": [
       "            tenure  MonthlyCharges  TotalCharges\n",
       "count  7043.000000     7043.000000   7043.000000\n",
       "mean     32.371149       64.761692   2281.916928\n",
       "std      24.559481       30.090047   2265.270398\n",
       "min       0.000000       18.250000     18.800000\n",
       "1%        1.000000       19.200000     19.900000\n",
       "5%        1.000000       19.650000     49.650000\n",
       "10%       2.000000       20.050000     84.610000\n",
       "25%       9.000000       35.500000    402.225000\n",
       "50%      29.000000       70.350000   1397.475000\n",
       "75%      55.000000       89.850000   3786.600000\n",
       "85%      65.000000       98.550000   5195.485000\n",
       "90%      69.000000      102.600000   5973.690000\n",
       "99%      72.000000      114.729000   8039.256000\n",
       "max      72.000000      118.750000   8684.800000"
      ]
     },
     "execution_count": 33,
     "metadata": {},
     "output_type": "execute_result"
    }
   ],
   "source": [
    "num.describe(percentiles=[0.01,0.05,0.10,0.25,0.50,0.75,0.85,0.9,0.99])"
   ]
  },
  {
   "cell_type": "markdown",
   "id": "b591f34a",
   "metadata": {
    "papermill": {
     "duration": 0.107077,
     "end_time": "2022-03-23T04:59:38.421711",
     "exception": false,
     "start_time": "2022-03-23T04:59:38.314634",
     "status": "completed"
    },
    "tags": []
   },
   "source": [
    "## Capping and Flooring of outliers"
   ]
  },
  {
   "cell_type": "markdown",
   "id": "a03f0d76",
   "metadata": {
    "papermill": {
     "duration": 0.107374,
     "end_time": "2022-03-23T04:59:38.636562",
     "exception": false,
     "start_time": "2022-03-23T04:59:38.529188",
     "status": "completed"
    },
    "tags": []
   },
   "source": [
    "We do capping just to make sure that standard deviation of the features and their variances does not change a whole lot, cause variance decides the predictive power of that feature "
   ]
  },
  {
   "cell_type": "code",
   "execution_count": 34,
   "id": "b319ac2a",
   "metadata": {
    "execution": {
     "iopub.execute_input": "2022-03-23T04:59:38.857780Z",
     "iopub.status.busy": "2022-03-23T04:59:38.857131Z",
     "iopub.status.idle": "2022-03-23T04:59:38.861114Z",
     "shell.execute_reply": "2022-03-23T04:59:38.861687Z",
     "shell.execute_reply.started": "2022-03-23T04:50:10.272587Z"
    },
    "papermill": {
     "duration": 0.115343,
     "end_time": "2022-03-23T04:59:38.861852",
     "exception": false,
     "start_time": "2022-03-23T04:59:38.746509",
     "status": "completed"
    },
    "tags": []
   },
   "outputs": [],
   "source": [
    "def outlier_cap(x):\n",
    "    x = x.clip(lower = x.quantile(0.01))\n",
    "    x = x.clip(upper = x.quantile(0.99))\n",
    "    return x"
   ]
  },
  {
   "cell_type": "code",
   "execution_count": 35,
   "id": "68f73dd9",
   "metadata": {
    "execution": {
     "iopub.execute_input": "2022-03-23T04:59:39.084381Z",
     "iopub.status.busy": "2022-03-23T04:59:39.083699Z",
     "iopub.status.idle": "2022-03-23T04:59:39.097220Z",
     "shell.execute_reply": "2022-03-23T04:59:39.097770Z",
     "shell.execute_reply.started": "2022-03-23T04:50:10.278862Z"
    },
    "papermill": {
     "duration": 0.127307,
     "end_time": "2022-03-23T04:59:39.097961",
     "exception": false,
     "start_time": "2022-03-23T04:59:38.970654",
     "status": "completed"
    },
    "tags": []
   },
   "outputs": [],
   "source": [
    "num = num.apply(lambda x: outlier_cap(x))"
   ]
  },
  {
   "cell_type": "code",
   "execution_count": 36,
   "id": "4cb1e04c",
   "metadata": {
    "execution": {
     "iopub.execute_input": "2022-03-23T04:59:39.316961Z",
     "iopub.status.busy": "2022-03-23T04:59:39.316326Z",
     "iopub.status.idle": "2022-03-23T04:59:39.335855Z",
     "shell.execute_reply": "2022-03-23T04:59:39.336372Z",
     "shell.execute_reply.started": "2022-03-23T04:50:10.301436Z"
    },
    "papermill": {
     "duration": 0.130905,
     "end_time": "2022-03-23T04:59:39.336543",
     "exception": false,
     "start_time": "2022-03-23T04:59:39.205638",
     "status": "completed"
    },
    "tags": []
   },
   "outputs": [
    {
     "data": {
      "text/html": [
       "<div>\n",
       "<style scoped>\n",
       "    .dataframe tbody tr th:only-of-type {\n",
       "        vertical-align: middle;\n",
       "    }\n",
       "\n",
       "    .dataframe tbody tr th {\n",
       "        vertical-align: top;\n",
       "    }\n",
       "\n",
       "    .dataframe thead th {\n",
       "        text-align: right;\n",
       "    }\n",
       "</style>\n",
       "<table border=\"1\" class=\"dataframe\">\n",
       "  <thead>\n",
       "    <tr style=\"text-align: right;\">\n",
       "      <th></th>\n",
       "      <th>tenure</th>\n",
       "      <th>MonthlyCharges</th>\n",
       "      <th>TotalCharges</th>\n",
       "    </tr>\n",
       "  </thead>\n",
       "  <tbody>\n",
       "    <tr>\n",
       "      <th>count</th>\n",
       "      <td>7043.000000</td>\n",
       "      <td>7043.000000</td>\n",
       "      <td>7043.000000</td>\n",
       "    </tr>\n",
       "    <tr>\n",
       "      <th>mean</th>\n",
       "      <td>32.372710</td>\n",
       "      <td>64.749689</td>\n",
       "      <td>2279.361600</td>\n",
       "    </tr>\n",
       "    <tr>\n",
       "      <th>std</th>\n",
       "      <td>24.557454</td>\n",
       "      <td>30.062810</td>\n",
       "      <td>2258.540338</td>\n",
       "    </tr>\n",
       "    <tr>\n",
       "      <th>min</th>\n",
       "      <td>1.000000</td>\n",
       "      <td>19.200000</td>\n",
       "      <td>19.900000</td>\n",
       "    </tr>\n",
       "    <tr>\n",
       "      <th>1%</th>\n",
       "      <td>1.000000</td>\n",
       "      <td>19.200000</td>\n",
       "      <td>19.900000</td>\n",
       "    </tr>\n",
       "    <tr>\n",
       "      <th>5%</th>\n",
       "      <td>1.000000</td>\n",
       "      <td>19.650000</td>\n",
       "      <td>49.650000</td>\n",
       "    </tr>\n",
       "    <tr>\n",
       "      <th>10%</th>\n",
       "      <td>2.000000</td>\n",
       "      <td>20.050000</td>\n",
       "      <td>84.610000</td>\n",
       "    </tr>\n",
       "    <tr>\n",
       "      <th>25%</th>\n",
       "      <td>9.000000</td>\n",
       "      <td>35.500000</td>\n",
       "      <td>402.225000</td>\n",
       "    </tr>\n",
       "    <tr>\n",
       "      <th>50%</th>\n",
       "      <td>29.000000</td>\n",
       "      <td>70.350000</td>\n",
       "      <td>1397.475000</td>\n",
       "    </tr>\n",
       "    <tr>\n",
       "      <th>75%</th>\n",
       "      <td>55.000000</td>\n",
       "      <td>89.850000</td>\n",
       "      <td>3786.600000</td>\n",
       "    </tr>\n",
       "    <tr>\n",
       "      <th>85%</th>\n",
       "      <td>65.000000</td>\n",
       "      <td>98.550000</td>\n",
       "      <td>5195.485000</td>\n",
       "    </tr>\n",
       "    <tr>\n",
       "      <th>90%</th>\n",
       "      <td>69.000000</td>\n",
       "      <td>102.600000</td>\n",
       "      <td>5973.690000</td>\n",
       "    </tr>\n",
       "    <tr>\n",
       "      <th>99%</th>\n",
       "      <td>72.000000</td>\n",
       "      <td>114.716820</td>\n",
       "      <td>8037.867480</td>\n",
       "    </tr>\n",
       "    <tr>\n",
       "      <th>max</th>\n",
       "      <td>72.000000</td>\n",
       "      <td>114.729000</td>\n",
       "      <td>8039.256000</td>\n",
       "    </tr>\n",
       "  </tbody>\n",
       "</table>\n",
       "</div>"
      ],
      "text/plain": [
       "            tenure  MonthlyCharges  TotalCharges\n",
       "count  7043.000000     7043.000000   7043.000000\n",
       "mean     32.372710       64.749689   2279.361600\n",
       "std      24.557454       30.062810   2258.540338\n",
       "min       1.000000       19.200000     19.900000\n",
       "1%        1.000000       19.200000     19.900000\n",
       "5%        1.000000       19.650000     49.650000\n",
       "10%       2.000000       20.050000     84.610000\n",
       "25%       9.000000       35.500000    402.225000\n",
       "50%      29.000000       70.350000   1397.475000\n",
       "75%      55.000000       89.850000   3786.600000\n",
       "85%      65.000000       98.550000   5195.485000\n",
       "90%      69.000000      102.600000   5973.690000\n",
       "99%      72.000000      114.716820   8037.867480\n",
       "max      72.000000      114.729000   8039.256000"
      ]
     },
     "execution_count": 36,
     "metadata": {},
     "output_type": "execute_result"
    }
   ],
   "source": [
    "num.describe(percentiles=[0.01,0.05,0.10,0.25,0.50,0.75,0.85,0.9,0.99])"
   ]
  },
  {
   "cell_type": "markdown",
   "id": "068a8908",
   "metadata": {
    "papermill": {
     "duration": 0.107266,
     "end_time": "2022-03-23T04:59:39.551860",
     "exception": false,
     "start_time": "2022-03-23T04:59:39.444594",
     "status": "completed"
    },
    "tags": []
   },
   "source": [
    "## Missing Value Analysis"
   ]
  },
  {
   "cell_type": "code",
   "execution_count": 37,
   "id": "3a4b31e2",
   "metadata": {
    "execution": {
     "iopub.execute_input": "2022-03-23T04:59:39.770992Z",
     "iopub.status.busy": "2022-03-23T04:59:39.770342Z",
     "iopub.status.idle": "2022-03-23T04:59:39.777208Z",
     "shell.execute_reply": "2022-03-23T04:59:39.777775Z",
     "shell.execute_reply.started": "2022-03-23T04:50:10.326916Z"
    },
    "papermill": {
     "duration": 0.118154,
     "end_time": "2022-03-23T04:59:39.777954",
     "exception": false,
     "start_time": "2022-03-23T04:59:39.659800",
     "status": "completed"
    },
    "tags": []
   },
   "outputs": [
    {
     "data": {
      "text/plain": [
       "tenure            0.0\n",
       "MonthlyCharges    0.0\n",
       "TotalCharges      0.0\n",
       "dtype: float64"
      ]
     },
     "execution_count": 37,
     "metadata": {},
     "output_type": "execute_result"
    }
   ],
   "source": [
    "num.isnull().mean()\n",
    "\n",
    "# Since the data does not contain any missing values Imputation Processes are not required"
   ]
  },
  {
   "cell_type": "markdown",
   "id": "99df9726",
   "metadata": {
    "papermill": {
     "duration": 0.111593,
     "end_time": "2022-03-23T04:59:40.001095",
     "exception": false,
     "start_time": "2022-03-23T04:59:39.889502",
     "status": "completed"
    },
    "tags": []
   },
   "source": [
    "## Feature Selection - Numerical Features"
   ]
  },
  {
   "cell_type": "markdown",
   "id": "37fa362a",
   "metadata": {
    "papermill": {
     "duration": 0.108203,
     "end_time": "2022-03-23T04:59:40.219811",
     "exception": false,
     "start_time": "2022-03-23T04:59:40.111608",
     "status": "completed"
    },
    "tags": []
   },
   "source": [
    "## Part 1 : Remove Features with 0 Variance"
   ]
  },
  {
   "cell_type": "code",
   "execution_count": 38,
   "id": "15b6bdb0",
   "metadata": {
    "execution": {
     "iopub.execute_input": "2022-03-23T04:59:40.442231Z",
     "iopub.status.busy": "2022-03-23T04:59:40.441352Z",
     "iopub.status.idle": "2022-03-23T04:59:40.707341Z",
     "shell.execute_reply": "2022-03-23T04:59:40.707879Z",
     "shell.execute_reply.started": "2022-03-23T04:50:10.338411Z"
    },
    "papermill": {
     "duration": 0.379846,
     "end_time": "2022-03-23T04:59:40.708135",
     "exception": false,
     "start_time": "2022-03-23T04:59:40.328289",
     "status": "completed"
    },
    "tags": []
   },
   "outputs": [],
   "source": [
    "from sklearn.feature_selection import VarianceThreshold\n",
    "\n",
    "varselector = VarianceThreshold(threshold = 0)\n",
    "varselector.fit_transform(num)\n",
    "#Get columns to keep and create new dataframe with those only\n",
    "cols = varselector.get_support(indices=True)\n",
    "num_1 = num.iloc[:,cols]"
   ]
  },
  {
   "cell_type": "code",
   "execution_count": 39,
   "id": "d796d9cd",
   "metadata": {
    "execution": {
     "iopub.execute_input": "2022-03-23T04:59:40.930990Z",
     "iopub.status.busy": "2022-03-23T04:59:40.930034Z",
     "iopub.status.idle": "2022-03-23T04:59:40.936898Z",
     "shell.execute_reply": "2022-03-23T04:59:40.937452Z",
     "shell.execute_reply.started": "2022-03-23T04:50:10.654823Z"
    },
    "papermill": {
     "duration": 0.12012,
     "end_time": "2022-03-23T04:59:40.937620",
     "exception": false,
     "start_time": "2022-03-23T04:59:40.817500",
     "status": "completed"
    },
    "tags": []
   },
   "outputs": [
    {
     "data": {
      "text/plain": [
       "tenure             1.00\n",
       "MonthlyCharges    29.85\n",
       "TotalCharges      29.85\n",
       "Name: 0, dtype: float64"
      ]
     },
     "execution_count": 39,
     "metadata": {},
     "output_type": "execute_result"
    }
   ],
   "source": [
    "num_1.iloc[0]"
   ]
  },
  {
   "cell_type": "markdown",
   "id": "0ba4ab2b",
   "metadata": {
    "papermill": {
     "duration": 0.109756,
     "end_time": "2022-03-23T04:59:41.156184",
     "exception": false,
     "start_time": "2022-03-23T04:59:41.046428",
     "status": "completed"
    },
    "tags": []
   },
   "source": [
    "## Part 2 - Bi Variate Analysis (Feature Discretization)"
   ]
  },
  {
   "cell_type": "code",
   "execution_count": 40,
   "id": "aa560593",
   "metadata": {
    "execution": {
     "iopub.execute_input": "2022-03-23T04:59:41.383856Z",
     "iopub.status.busy": "2022-03-23T04:59:41.383194Z",
     "iopub.status.idle": "2022-03-23T04:59:41.397706Z",
     "shell.execute_reply": "2022-03-23T04:59:41.397172Z",
     "shell.execute_reply.started": "2022-03-23T04:50:10.663260Z"
    },
    "papermill": {
     "duration": 0.133206,
     "end_time": "2022-03-23T04:59:41.397841",
     "exception": false,
     "start_time": "2022-03-23T04:59:41.264635",
     "status": "completed"
    },
    "tags": []
   },
   "outputs": [
    {
     "data": {
      "text/html": [
       "<div>\n",
       "<style scoped>\n",
       "    .dataframe tbody tr th:only-of-type {\n",
       "        vertical-align: middle;\n",
       "    }\n",
       "\n",
       "    .dataframe tbody tr th {\n",
       "        vertical-align: top;\n",
       "    }\n",
       "\n",
       "    .dataframe thead th {\n",
       "        text-align: right;\n",
       "    }\n",
       "</style>\n",
       "<table border=\"1\" class=\"dataframe\">\n",
       "  <thead>\n",
       "    <tr style=\"text-align: right;\">\n",
       "      <th></th>\n",
       "      <th>tenureRank</th>\n",
       "      <th>MonthlyChargesRank</th>\n",
       "      <th>TotalChargesRank</th>\n",
       "    </tr>\n",
       "  </thead>\n",
       "  <tbody>\n",
       "    <tr>\n",
       "      <th>0</th>\n",
       "      <td>0.0</td>\n",
       "      <td>2.0</td>\n",
       "      <td>0.0</td>\n",
       "    </tr>\n",
       "    <tr>\n",
       "      <th>1</th>\n",
       "      <td>5.0</td>\n",
       "      <td>3.0</td>\n",
       "      <td>5.0</td>\n",
       "    </tr>\n",
       "    <tr>\n",
       "      <th>2</th>\n",
       "      <td>1.0</td>\n",
       "      <td>3.0</td>\n",
       "      <td>1.0</td>\n",
       "    </tr>\n",
       "    <tr>\n",
       "      <th>3</th>\n",
       "      <td>6.0</td>\n",
       "      <td>2.0</td>\n",
       "      <td>5.0</td>\n",
       "    </tr>\n",
       "    <tr>\n",
       "      <th>4</th>\n",
       "      <td>1.0</td>\n",
       "      <td>5.0</td>\n",
       "      <td>1.0</td>\n",
       "    </tr>\n",
       "  </tbody>\n",
       "</table>\n",
       "</div>"
      ],
      "text/plain": [
       "   tenureRank  MonthlyChargesRank  TotalChargesRank\n",
       "0         0.0                 2.0               0.0\n",
       "1         5.0                 3.0               5.0\n",
       "2         1.0                 3.0               1.0\n",
       "3         6.0                 2.0               5.0\n",
       "4         1.0                 5.0               1.0"
      ]
     },
     "execution_count": 40,
     "metadata": {},
     "output_type": "execute_result"
    }
   ],
   "source": [
    "from sklearn.preprocessing import KBinsDiscretizer\n",
    "discrete = KBinsDiscretizer(n_bins = 10, encode = 'ordinal', strategy = 'quantile')\n",
    "num_binned = pd.DataFrame(discrete.fit_transform(num_1), index = num_1.index, columns=num_1.columns ).add_suffix('Rank')\n",
    "num_binned.head()"
   ]
  },
  {
   "cell_type": "code",
   "execution_count": 41,
   "id": "9e8a87b7",
   "metadata": {
    "execution": {
     "iopub.execute_input": "2022-03-23T04:59:41.619261Z",
     "iopub.status.busy": "2022-03-23T04:59:41.618644Z",
     "iopub.status.idle": "2022-03-23T04:59:44.786612Z",
     "shell.execute_reply": "2022-03-23T04:59:44.786088Z",
     "shell.execute_reply.started": "2022-03-23T04:50:10.686977Z"
    },
    "papermill": {
     "duration": 3.279888,
     "end_time": "2022-03-23T04:59:44.786769",
     "exception": false,
     "start_time": "2022-03-23T04:59:41.506881",
     "status": "completed"
    },
    "tags": []
   },
   "outputs": [
    {
     "data": {
      "image/png": "[encoded data removed]",
      "text/plain": [
       "<Figure size 432x288 with 1 Axes>"
      ]
     },
     "metadata": {
      "needs_background": "light"
     },
     "output_type": "display_data"
    },
    {
     "data": {
      "image/png": "[encoded data removed]",
      "text/plain": [
       "<Figure size 432x288 with 1 Axes>"
      ]
     },
     "metadata": {
      "needs_background": "light"
     },
     "output_type": "display_data"
    },
    {
     "data": {
      "image/png": "[encoded data removed]",
      "text/plain": [
       "<Figure size 432x288 with 1 Axes>"
      ]
     },
     "metadata": {
      "needs_background": "light"
     },
     "output_type": "display_data"
    }
   ],
   "source": [
    "#Check if the features show a slope at all\n",
    "#If they do, then do you see some deciles below the population average and some higher than population average?\n",
    "#If that is the case then the slope will be strong\n",
    "#Conclusion: A strong slope is indicative of the features' ability to discriminate the event from non event\n",
    "#            making it a good predictor\n",
    "\n",
    "\n",
    "X_bin_combined=pd.concat([Y,num_binned],axis=1,join='inner')\n",
    "\n",
    "from numpy import mean\n",
    "for col in (num_binned.columns):\n",
    "    plt.figure()\n",
    "    sns.lineplot(x=col, y=X_bin_combined['target'].mean(), data=X_bin_combined, color='red')\n",
    "    sns.barplot(x=col, y=\"target\",data=X_bin_combined, estimator=mean )\n",
    "plt.show()"
   ]
  },
  {
   "cell_type": "code",
   "execution_count": 42,
   "id": "a1663c5f",
   "metadata": {
    "execution": {
     "iopub.execute_input": "2022-03-23T04:59:45.016815Z",
     "iopub.status.busy": "2022-03-23T04:59:45.016168Z",
     "iopub.status.idle": "2022-03-23T04:59:45.019318Z",
     "shell.execute_reply": "2022-03-23T04:59:45.018755Z",
     "shell.execute_reply.started": "2022-03-23T04:50:13.123615Z"
    },
    "papermill": {
     "duration": 0.119854,
     "end_time": "2022-03-23T04:59:45.019461",
     "exception": false,
     "start_time": "2022-03-23T04:59:44.899607",
     "status": "completed"
    },
    "tags": []
   },
   "outputs": [],
   "source": [
    "# All features from num_2 will get selected due to good discrimination\n",
    "select_features_df_num=num_1"
   ]
  },
  {
   "cell_type": "code",
   "execution_count": 43,
   "id": "e5631669",
   "metadata": {
    "execution": {
     "iopub.execute_input": "2022-03-23T04:59:45.251572Z",
     "iopub.status.busy": "2022-03-23T04:59:45.250591Z",
     "iopub.status.idle": "2022-03-23T04:59:45.256847Z",
     "shell.execute_reply": "2022-03-23T04:59:45.256338Z",
     "shell.execute_reply.started": "2022-03-23T04:50:13.129921Z"
    },
    "papermill": {
     "duration": 0.122939,
     "end_time": "2022-03-23T04:59:45.257016",
     "exception": false,
     "start_time": "2022-03-23T04:59:45.134077",
     "status": "completed"
    },
    "tags": []
   },
   "outputs": [
    {
     "data": {
      "text/plain": [
       "(7043, 3)"
      ]
     },
     "execution_count": 43,
     "metadata": {},
     "output_type": "execute_result"
    }
   ],
   "source": [
    "num_1.shape"
   ]
  },
  {
   "cell_type": "markdown",
   "id": "abe096a0",
   "metadata": {
    "papermill": {
     "duration": 0.111707,
     "end_time": "2022-03-23T04:59:45.481354",
     "exception": false,
     "start_time": "2022-03-23T04:59:45.369647",
     "status": "completed"
    },
    "tags": []
   },
   "source": [
    "## Feature Selection - Categorical Features"
   ]
  },
  {
   "cell_type": "code",
   "execution_count": 44,
   "id": "8306540d",
   "metadata": {
    "execution": {
     "iopub.execute_input": "2022-03-23T04:59:45.712429Z",
     "iopub.status.busy": "2022-03-23T04:59:45.711733Z",
     "iopub.status.idle": "2022-03-23T04:59:45.714410Z",
     "shell.execute_reply": "2022-03-23T04:59:45.714880Z",
     "shell.execute_reply.started": "2022-03-23T04:50:13.142876Z"
    },
    "papermill": {
     "duration": 0.12144,
     "end_time": "2022-03-23T04:59:45.715063",
     "exception": false,
     "start_time": "2022-03-23T04:59:45.593623",
     "status": "completed"
    },
    "tags": []
   },
   "outputs": [
    {
     "data": {
      "text/plain": [
       "gender              object\n",
       "Partner             object\n",
       "Dependents          object\n",
       "PhoneService        object\n",
       "MultipleLines       object\n",
       "InternetService     object\n",
       "OnlineSecurity      object\n",
       "OnlineBackup        object\n",
       "DeviceProtection    object\n",
       "TechSupport         object\n",
       "StreamingTV         object\n",
       "StreamingMovies     object\n",
       "Contract            object\n",
       "PaperlessBilling    object\n",
       "PaymentMethod       object\n",
       "dtype: object"
      ]
     },
     "execution_count": 44,
     "metadata": {},
     "output_type": "execute_result"
    }
   ],
   "source": [
    "char.dtypes"
   ]
  },
  {
   "cell_type": "markdown",
   "id": "371230b2",
   "metadata": {
    "papermill": {
     "duration": 0.113804,
     "end_time": "2022-03-23T04:59:45.942308",
     "exception": false,
     "start_time": "2022-03-23T04:59:45.828504",
     "status": "completed"
    },
    "tags": []
   },
   "source": [
    "## Part 1 - Bi Variate Analysis"
   ]
  },
  {
   "cell_type": "code",
   "execution_count": 45,
   "id": "00842a65",
   "metadata": {
    "execution": {
     "iopub.execute_input": "2022-03-23T04:59:46.178751Z",
     "iopub.status.busy": "2022-03-23T04:59:46.177502Z",
     "iopub.status.idle": "2022-03-23T04:59:54.167809Z",
     "shell.execute_reply": "2022-03-23T04:59:54.167251Z",
     "shell.execute_reply.started": "2022-03-23T04:50:13.154597Z"
    },
    "papermill": {
     "duration": 8.1114,
     "end_time": "2022-03-23T04:59:54.167973",
     "exception": false,
     "start_time": "2022-03-23T04:59:46.056573",
     "status": "completed"
    },
    "tags": []
   },
   "outputs": [
    {
     "data": {
      "image/png": "[encoded data removed]",
      "text/plain": [
       "<Figure size 432x288 with 1 Axes>"
      ]
     },
     "metadata": {
      "needs_background": "light"
     },
     "output_type": "display_data"
    },
    {
     "data": {
      "image/png": "[encoded data removed]",
      "text/plain": [
       "<Figure size 432x288 with 1 Axes>"
      ]
     },
     "metadata": {
      "needs_background": "light"
     },
     "output_type": "display_data"
    },
    {
     "data": {
      "image/png": "[encoded data removed]",
      "text/plain": [
       "<Figure size 432x288 with 1 Axes>"
      ]
     },
     "metadata": {
      "needs_background": "light"
     },
     "output_type": "display_data"
    },
    {
     "data": {
      "image/png": "[encoded data removed]",
      "text/plain": [
       "<Figure size 432x288 with 1 Axes>"
      ]
     },
     "metadata": {
      "needs_background": "light"
     },
     "output_type": "display_data"
    },
    {
     "data": {
      "image/png": "[encoded data removed]",
      "text/plain": [
       "<Figure size 432x288 with 1 Axes>"
      ]
     },
     "metadata": {
      "needs_background": "light"
     },
     "output_type": "display_data"
    },
    {
     "data": {
      "image/png": "[encoded data removed]",
      "text/plain": [
       "<Figure size 432x288 with 1 Axes>"
      ]
     },
     "metadata": {
      "needs_background": "light"
     },
     "output_type": "display_data"
    },
    {
     "data": {
      "image/png": "[encoded data removed]",
      "text/plain": [
       "<Figure size 432x288 with 1 Axes>"
      ]
     },
     "metadata": {
      "needs_background": "light"
     },
     "output_type": "display_data"
    },
    {
     "data": {
      "image/png": "[encoded data removed]",
      "text/plain": [
       "<Figure size 432x288 with 1 Axes>"
      ]
     },
     "metadata": {
      "needs_background": "light"
     },
     "output_type": "display_data"
    },
    {
     "data": {
      "image/png": "[encoded data removed]",
      "text/plain": [
       "<Figure size 432x288 with 1 Axes>"
      ]
     },
     "metadata": {
      "needs_background": "light"
     },
     "output_type": "display_data"
    },
    {
     "data": {
      "image/png": "[encoded data removed]",
      "text/plain": [
       "<Figure size 432x288 with 1 Axes>"
      ]
     },
     "metadata": {
      "needs_background": "light"
     },
     "output_type": "display_data"
    },
    {
     "data": {
      "image/png": "[encoded data removed]",
      "text/plain": [
       "<Figure size 432x288 with 1 Axes>"
      ]
     },
     "metadata": {
      "needs_background": "light"
     },
     "output_type": "display_data"
    },
    {
     "data": {
      "image/png": "[encoded data removed]",
      "text/plain": [
       "<Figure size 432x288 with 1 Axes>"
      ]
     },
     "metadata": {
      "needs_background": "light"
     },
     "output_type": "display_data"
    },
    {
     "data": {
      "image/png": "[encoded data removed]",
      "text/plain": [
       "<Figure size 432x288 with 1 Axes>"
      ]
     },
     "metadata": {
      "needs_background": "light"
     },
     "output_type": "display_data"
    },
    {
     "data": {
      "image/png": "[encoded data removed]",
      "text/plain": [
       "<Figure size 432x288 with 1 Axes>"
      ]
     },
     "metadata": {
      "needs_background": "light"
     },
     "output_type": "display_data"
    },
    {
     "data": {
      "image/png": "[encoded data removed]",
      "text/plain": [
       "<Figure size 432x288 with 1 Axes>"
      ]
     },
     "metadata": {
      "needs_background": "light"
     },
     "output_type": "display_data"
    }
   ],
   "source": [
    "X_char_merged=pd.concat([Y,char],axis=1,join='inner')\n",
    "\n",
    "from numpy import mean\n",
    "for col in (char.columns):\n",
    "    plt.figure()\n",
    "    sns.lineplot(x=col, y=X_char_merged['target'].mean(), data=X_char_merged, color='red')\n",
    "    sns.barplot(x=col, y=\"target\",data=X_char_merged, estimator=mean )\n",
    "plt.show()"
   ]
  },
  {
   "cell_type": "code",
   "execution_count": 46,
   "id": "bf6e7bfe",
   "metadata": {
    "execution": {
     "iopub.execute_input": "2022-03-23T04:59:54.425937Z",
     "iopub.status.busy": "2022-03-23T04:59:54.425116Z",
     "iopub.status.idle": "2022-03-23T04:59:54.428585Z",
     "shell.execute_reply": "2022-03-23T04:59:54.428064Z",
     "shell.execute_reply.started": "2022-03-23T04:50:19.546532Z"
    },
    "papermill": {
     "duration": 0.134197,
     "end_time": "2022-03-23T04:59:54.428733",
     "exception": false,
     "start_time": "2022-03-23T04:59:54.294536",
     "status": "completed"
    },
    "tags": []
   },
   "outputs": [],
   "source": [
    "char=char.drop(['gender','PhoneService','MultipleLines'],axis=1)"
   ]
  },
  {
   "cell_type": "code",
   "execution_count": 47,
   "id": "2db20b9c",
   "metadata": {
    "execution": {
     "iopub.execute_input": "2022-03-23T04:59:54.684686Z",
     "iopub.status.busy": "2022-03-23T04:59:54.683952Z",
     "iopub.status.idle": "2022-03-23T04:59:54.710003Z",
     "shell.execute_reply": "2022-03-23T04:59:54.709411Z",
     "shell.execute_reply.started": "2022-03-23T04:50:19.553902Z"
    },
    "papermill": {
     "duration": 0.156782,
     "end_time": "2022-03-23T04:59:54.710154",
     "exception": false,
     "start_time": "2022-03-23T04:59:54.553372",
     "status": "completed"
    },
    "tags": []
   },
   "outputs": [
    {
     "data": {
      "text/plain": [
       "(7043, 22)"
      ]
     },
     "execution_count": 47,
     "metadata": {},
     "output_type": "execute_result"
    }
   ],
   "source": [
    "# Create dummy features with n-1 levels\n",
    "X_char_dum = pd.get_dummies(char,drop_first = True)\n",
    "X_char_dum.shape"
   ]
  },
  {
   "cell_type": "markdown",
   "id": "ad454594",
   "metadata": {
    "papermill": {
     "duration": 0.126524,
     "end_time": "2022-03-23T04:59:54.963313",
     "exception": false,
     "start_time": "2022-03-23T04:59:54.836789",
     "status": "completed"
    },
    "tags": []
   },
   "source": [
    "## Part 2 - Select K Best"
   ]
  },
  {
   "cell_type": "code",
   "execution_count": 48,
   "id": "dfb5036c",
   "metadata": {
    "execution": {
     "iopub.execute_input": "2022-03-23T04:59:55.230254Z",
     "iopub.status.busy": "2022-03-23T04:59:55.225833Z",
     "iopub.status.idle": "2022-03-23T04:59:55.240274Z",
     "shell.execute_reply": "2022-03-23T04:59:55.239642Z",
     "shell.execute_reply.started": "2022-03-23T04:50:19.587529Z"
    },
    "papermill": {
     "duration": 0.147219,
     "end_time": "2022-03-23T04:59:55.240467",
     "exception": false,
     "start_time": "2022-03-23T04:59:55.093248",
     "status": "completed"
    },
    "tags": []
   },
   "outputs": [],
   "source": [
    "# Select K Best for Categorical Features\n",
    "from sklearn.feature_selection import SelectKBest, chi2\n",
    "selector = SelectKBest(chi2, k=20)\n",
    "selector.fit_transform(X_char_dum, Y)\n",
    "# Get columns to keep and create new dataframe with those only\n",
    "cols = selector.get_support(indices=True)\n",
    "select_features_df_char = X_char_dum.iloc[:,cols]"
   ]
  },
  {
   "cell_type": "code",
   "execution_count": 49,
   "id": "de4e7108",
   "metadata": {
    "execution": {
     "iopub.execute_input": "2022-03-23T04:59:55.500295Z",
     "iopub.status.busy": "2022-03-23T04:59:55.499418Z",
     "iopub.status.idle": "2022-03-23T04:59:55.503093Z",
     "shell.execute_reply": "2022-03-23T04:59:55.502519Z",
     "shell.execute_reply.started": "2022-03-23T04:50:19.604425Z"
    },
    "papermill": {
     "duration": 0.135183,
     "end_time": "2022-03-23T04:59:55.503240",
     "exception": false,
     "start_time": "2022-03-23T04:59:55.368057",
     "status": "completed"
    },
    "tags": []
   },
   "outputs": [
    {
     "data": {
      "text/plain": [
       "(7043, 20)"
      ]
     },
     "execution_count": 49,
     "metadata": {},
     "output_type": "execute_result"
    }
   ],
   "source": [
    "select_features_df_char.shape"
   ]
  },
  {
   "cell_type": "markdown",
   "id": "2cb2e5f6",
   "metadata": {
    "papermill": {
     "duration": 0.131622,
     "end_time": "2022-03-23T04:59:55.764434",
     "exception": false,
     "start_time": "2022-03-23T04:59:55.632812",
     "status": "completed"
    },
    "tags": []
   },
   "source": [
    "## Feature Selection - Numerical Indicator Features"
   ]
  },
  {
   "cell_type": "code",
   "execution_count": 50,
   "id": "03b9a488",
   "metadata": {
    "execution": {
     "iopub.execute_input": "2022-03-23T04:59:56.021639Z",
     "iopub.status.busy": "2022-03-23T04:59:56.021004Z",
     "iopub.status.idle": "2022-03-23T04:59:56.314233Z",
     "shell.execute_reply": "2022-03-23T04:59:56.314724Z",
     "shell.execute_reply.started": "2022-03-23T04:50:19.611937Z"
    },
    "papermill": {
     "duration": 0.422153,
     "end_time": "2022-03-23T04:59:56.314893",
     "exception": false,
     "start_time": "2022-03-23T04:59:55.892740",
     "status": "completed"
    },
    "tags": []
   },
   "outputs": [
    {
     "data": {
      "image/png": "[encoded data removed]",
      "text/plain": [
       "<Figure size 432x288 with 1 Axes>"
      ]
     },
     "metadata": {
      "needs_background": "light"
     },
     "output_type": "display_data"
    }
   ],
   "source": [
    "X_ind_merged=pd.concat([Y,ind],axis=1,join='inner')\n",
    "from numpy import mean\n",
    "for col in (ind.columns):\n",
    "    plt.figure()\n",
    "    sns.barplot(x=col, y=\"target\",data=X_ind_merged, estimator=mean )\n",
    "plt.show()"
   ]
  },
  {
   "cell_type": "code",
   "execution_count": 51,
   "id": "e6db5904",
   "metadata": {
    "execution": {
     "iopub.execute_input": "2022-03-23T04:59:56.571770Z",
     "iopub.status.busy": "2022-03-23T04:59:56.570758Z",
     "iopub.status.idle": "2022-03-23T04:59:56.574743Z",
     "shell.execute_reply": "2022-03-23T04:59:56.575354Z",
     "shell.execute_reply.started": "2022-03-23T04:50:19.850899Z"
    },
    "papermill": {
     "duration": 0.134531,
     "end_time": "2022-03-23T04:59:56.575536",
     "exception": false,
     "start_time": "2022-03-23T04:59:56.441005",
     "status": "completed"
    },
    "tags": []
   },
   "outputs": [],
   "source": [
    "select_features_df_ind=ind"
   ]
  },
  {
   "cell_type": "markdown",
   "id": "89c97996",
   "metadata": {
    "papermill": {
     "duration": 0.126262,
     "end_time": "2022-03-23T04:59:56.829388",
     "exception": false,
     "start_time": "2022-03-23T04:59:56.703126",
     "status": "completed"
    },
    "tags": []
   },
   "source": [
    "## Creating the Master Feature Set for Model Development"
   ]
  },
  {
   "cell_type": "code",
   "execution_count": 52,
   "id": "a6c5356b",
   "metadata": {
    "execution": {
     "iopub.execute_input": "2022-03-23T04:59:57.086437Z",
     "iopub.status.busy": "2022-03-23T04:59:57.085461Z",
     "iopub.status.idle": "2022-03-23T04:59:57.090333Z",
     "shell.execute_reply": "2022-03-23T04:59:57.090869Z",
     "shell.execute_reply.started": "2022-03-23T04:50:19.856866Z"
    },
    "papermill": {
     "duration": 0.134923,
     "end_time": "2022-03-23T04:59:57.091060",
     "exception": false,
     "start_time": "2022-03-23T04:59:56.956137",
     "status": "completed"
    },
    "tags": []
   },
   "outputs": [],
   "source": [
    "X_all=pd.concat([select_features_df_char,select_features_df_num,select_features_df_ind],axis=1,join=\"inner\")"
   ]
  },
  {
   "cell_type": "code",
   "execution_count": 53,
   "id": "4502e659",
   "metadata": {
    "execution": {
     "iopub.execute_input": "2022-03-23T04:59:57.352724Z",
     "iopub.status.busy": "2022-03-23T04:59:57.351970Z",
     "iopub.status.idle": "2022-03-23T04:59:57.355159Z",
     "shell.execute_reply": "2022-03-23T04:59:57.355665Z",
     "shell.execute_reply.started": "2022-03-23T04:50:19.873586Z"
    },
    "papermill": {
     "duration": 0.1377,
     "end_time": "2022-03-23T04:59:57.355835",
     "exception": false,
     "start_time": "2022-03-23T04:59:57.218135",
     "status": "completed"
    },
    "tags": []
   },
   "outputs": [
    {
     "data": {
      "text/plain": [
       "0    5174\n",
       "1    1869\n",
       "Name: target, dtype: int64"
      ]
     },
     "execution_count": 53,
     "metadata": {},
     "output_type": "execute_result"
    }
   ],
   "source": [
    "Y['target'].value_counts()"
   ]
  },
  {
   "cell_type": "markdown",
   "id": "de981686",
   "metadata": {
    "papermill": {
     "duration": 0.126429,
     "end_time": "2022-03-23T04:59:57.609381",
     "exception": false,
     "start_time": "2022-03-23T04:59:57.482952",
     "status": "completed"
    },
    "tags": []
   },
   "source": [
    "## Train Test Split"
   ]
  },
  {
   "cell_type": "code",
   "execution_count": 54,
   "id": "34711799",
   "metadata": {
    "execution": {
     "iopub.execute_input": "2022-03-23T04:59:57.866578Z",
     "iopub.status.busy": "2022-03-23T04:59:57.865577Z",
     "iopub.status.idle": "2022-03-23T04:59:57.872893Z",
     "shell.execute_reply": "2022-03-23T04:59:57.873453Z",
     "shell.execute_reply.started": "2022-03-23T04:50:19.885143Z"
    },
    "papermill": {
     "duration": 0.138409,
     "end_time": "2022-03-23T04:59:57.873648",
     "exception": false,
     "start_time": "2022-03-23T04:59:57.735239",
     "status": "completed"
    },
    "tags": []
   },
   "outputs": [],
   "source": [
    "from sklearn.model_selection import train_test_split\n",
    "X_train, X_test, y_train, y_test=train_test_split(X_all, Y, test_size=0.3, random_state=99)"
   ]
  },
  {
   "cell_type": "code",
   "execution_count": 55,
   "id": "f1f37305",
   "metadata": {
    "execution": {
     "iopub.execute_input": "2022-03-23T04:59:58.134065Z",
     "iopub.status.busy": "2022-03-23T04:59:58.133360Z",
     "iopub.status.idle": "2022-03-23T04:59:58.142777Z",
     "shell.execute_reply": "2022-03-23T04:59:58.143311Z",
     "shell.execute_reply.started": "2022-03-23T04:50:19.897584Z"
    },
    "papermill": {
     "duration": 0.141686,
     "end_time": "2022-03-23T04:59:58.143485",
     "exception": false,
     "start_time": "2022-03-23T04:59:58.001799",
     "status": "completed"
    },
    "tags": []
   },
   "outputs": [
    {
     "name": "stdout",
     "output_type": "stream",
     "text": [
      "Shape of Training Data (4930, 24)\n",
      "Shape of Testing Data (2113, 24)\n",
      "Response Rate in Training Data target    0.265314\n",
      "dtype: float64\n",
      "Response Rate in Testing Data target    0.265499\n",
      "dtype: float64\n"
     ]
    }
   ],
   "source": [
    "print(\"Shape of Training Data\",X_train.shape)\n",
    "print(\"Shape of Testing Data\",X_test.shape)\n",
    "print(\"Response Rate in Training Data\",y_train.mean())\n",
    "print(\"Response Rate in Testing Data\",y_test.mean())"
   ]
  },
  {
   "cell_type": "markdown",
   "id": "67a67646",
   "metadata": {
    "papermill": {
     "duration": 0.127862,
     "end_time": "2022-03-23T04:59:58.399531",
     "exception": false,
     "start_time": "2022-03-23T04:59:58.271669",
     "status": "completed"
    },
    "tags": []
   },
   "source": [
    "## Model Building"
   ]
  },
  {
   "cell_type": "code",
   "execution_count": 56,
   "id": "aba91a9c",
   "metadata": {
    "execution": {
     "iopub.execute_input": "2022-03-23T04:59:58.678584Z",
     "iopub.status.busy": "2022-03-23T04:59:58.677816Z",
     "iopub.status.idle": "2022-03-23T04:59:58.680749Z",
     "shell.execute_reply": "2022-03-23T04:59:58.681299Z",
     "shell.execute_reply.started": "2022-03-23T04:50:19.915946Z"
    },
    "papermill": {
     "duration": 0.149182,
     "end_time": "2022-03-23T04:59:58.681469",
     "exception": false,
     "start_time": "2022-03-23T04:59:58.532287",
     "status": "completed"
    },
    "tags": []
   },
   "outputs": [],
   "source": [
    "# Non Linearity in feature relationships are observed which makes tree methods a good choice\n",
    "# There are few options to consider among tree methods\n",
    "# White Box (Completely Explainable Set of Rules) - Decision Tree\n",
    "# Ensemble Methods - Random Forest (With Bagging)"
   ]
  },
  {
   "cell_type": "code",
   "execution_count": 57,
   "id": "013c0435",
   "metadata": {
    "execution": {
     "iopub.execute_input": "2022-03-23T04:59:58.941539Z",
     "iopub.status.busy": "2022-03-23T04:59:58.940851Z",
     "iopub.status.idle": "2022-03-23T04:59:59.082999Z",
     "shell.execute_reply": "2022-03-23T04:59:59.084021Z",
     "shell.execute_reply.started": "2022-03-23T04:50:19.922323Z"
    },
    "papermill": {
     "duration": 0.274097,
     "end_time": "2022-03-23T04:59:59.084297",
     "exception": false,
     "start_time": "2022-03-23T04:59:58.810200",
     "status": "completed"
    },
    "tags": []
   },
   "outputs": [
    {
     "data": {
      "text/plain": [
       "LogisticRegression(random_state=0)"
      ]
     },
     "execution_count": 57,
     "metadata": {},
     "output_type": "execute_result"
    }
   ],
   "source": [
    "#Logistic Regression\n",
    "from sklearn.linear_model import LogisticRegression\n",
    "logreg=LogisticRegression(random_state=0)\n",
    "logreg.fit(X_train,y_train)"
   ]
  },
  {
   "cell_type": "code",
   "execution_count": 58,
   "id": "65330454",
   "metadata": {
    "execution": {
     "iopub.execute_input": "2022-03-23T04:59:59.400133Z",
     "iopub.status.busy": "2022-03-23T04:59:59.399122Z",
     "iopub.status.idle": "2022-03-23T04:59:59.410333Z",
     "shell.execute_reply": "2022-03-23T04:59:59.410782Z",
     "shell.execute_reply.started": "2022-03-23T04:50:20.063213Z"
    },
    "papermill": {
     "duration": 0.148137,
     "end_time": "2022-03-23T04:59:59.410990",
     "exception": false,
     "start_time": "2022-03-23T04:59:59.262853",
     "status": "completed"
    },
    "tags": []
   },
   "outputs": [
    {
     "data": {
      "text/html": [
       "<div>\n",
       "<style scoped>\n",
       "    .dataframe tbody tr th:only-of-type {\n",
       "        vertical-align: middle;\n",
       "    }\n",
       "\n",
       "    .dataframe tbody tr th {\n",
       "        vertical-align: top;\n",
       "    }\n",
       "\n",
       "    .dataframe thead th {\n",
       "        text-align: right;\n",
       "    }\n",
       "</style>\n",
       "<table border=\"1\" class=\"dataframe\">\n",
       "  <thead>\n",
       "    <tr style=\"text-align: right;\">\n",
       "      <th></th>\n",
       "      <th>features</th>\n",
       "      <th>Coefficient Estimate</th>\n",
       "    </tr>\n",
       "  </thead>\n",
       "  <tbody>\n",
       "    <tr>\n",
       "      <th>0</th>\n",
       "      <td>Partner_Yes</td>\n",
       "      <td>0.050376</td>\n",
       "    </tr>\n",
       "    <tr>\n",
       "      <th>1</th>\n",
       "      <td>Dependents_Yes</td>\n",
       "      <td>-0.187757</td>\n",
       "    </tr>\n",
       "    <tr>\n",
       "      <th>2</th>\n",
       "      <td>InternetService_Fiber optic</td>\n",
       "      <td>0.554334</td>\n",
       "    </tr>\n",
       "    <tr>\n",
       "      <th>3</th>\n",
       "      <td>InternetService_No</td>\n",
       "      <td>-0.168163</td>\n",
       "    </tr>\n",
       "    <tr>\n",
       "      <th>4</th>\n",
       "      <td>OnlineSecurity_No internet service</td>\n",
       "      <td>-0.168163</td>\n",
       "    </tr>\n",
       "    <tr>\n",
       "      <th>5</th>\n",
       "      <td>OnlineSecurity_Yes</td>\n",
       "      <td>-0.537322</td>\n",
       "    </tr>\n",
       "    <tr>\n",
       "      <th>6</th>\n",
       "      <td>OnlineBackup_No internet service</td>\n",
       "      <td>-0.168163</td>\n",
       "    </tr>\n",
       "    <tr>\n",
       "      <th>7</th>\n",
       "      <td>OnlineBackup_Yes</td>\n",
       "      <td>-0.242833</td>\n",
       "    </tr>\n",
       "    <tr>\n",
       "      <th>8</th>\n",
       "      <td>DeviceProtection_No internet service</td>\n",
       "      <td>-0.168163</td>\n",
       "    </tr>\n",
       "    <tr>\n",
       "      <th>9</th>\n",
       "      <td>DeviceProtection_Yes</td>\n",
       "      <td>-0.021401</td>\n",
       "    </tr>\n",
       "    <tr>\n",
       "      <th>10</th>\n",
       "      <td>TechSupport_No internet service</td>\n",
       "      <td>-0.168163</td>\n",
       "    </tr>\n",
       "    <tr>\n",
       "      <th>11</th>\n",
       "      <td>TechSupport_Yes</td>\n",
       "      <td>-0.458837</td>\n",
       "    </tr>\n",
       "    <tr>\n",
       "      <th>12</th>\n",
       "      <td>StreamingTV_No internet service</td>\n",
       "      <td>-0.168163</td>\n",
       "    </tr>\n",
       "    <tr>\n",
       "      <th>13</th>\n",
       "      <td>StreamingMovies_No internet service</td>\n",
       "      <td>-0.168163</td>\n",
       "    </tr>\n",
       "    <tr>\n",
       "      <th>14</th>\n",
       "      <td>Contract_One year</td>\n",
       "      <td>-0.322017</td>\n",
       "    </tr>\n",
       "    <tr>\n",
       "      <th>15</th>\n",
       "      <td>Contract_Two year</td>\n",
       "      <td>-0.613799</td>\n",
       "    </tr>\n",
       "    <tr>\n",
       "      <th>16</th>\n",
       "      <td>PaperlessBilling_Yes</td>\n",
       "      <td>0.457717</td>\n",
       "    </tr>\n",
       "    <tr>\n",
       "      <th>17</th>\n",
       "      <td>PaymentMethod_Credit card (automatic)</td>\n",
       "      <td>-0.150151</td>\n",
       "    </tr>\n",
       "    <tr>\n",
       "      <th>18</th>\n",
       "      <td>PaymentMethod_Electronic check</td>\n",
       "      <td>0.235317</td>\n",
       "    </tr>\n",
       "    <tr>\n",
       "      <th>19</th>\n",
       "      <td>PaymentMethod_Mailed check</td>\n",
       "      <td>-0.015295</td>\n",
       "    </tr>\n",
       "    <tr>\n",
       "      <th>20</th>\n",
       "      <td>tenure</td>\n",
       "      <td>-0.065344</td>\n",
       "    </tr>\n",
       "    <tr>\n",
       "      <th>21</th>\n",
       "      <td>MonthlyCharges</td>\n",
       "      <td>0.002018</td>\n",
       "    </tr>\n",
       "    <tr>\n",
       "      <th>22</th>\n",
       "      <td>TotalCharges</td>\n",
       "      <td>0.000376</td>\n",
       "    </tr>\n",
       "    <tr>\n",
       "      <th>23</th>\n",
       "      <td>SeniorCitizen</td>\n",
       "      <td>0.266727</td>\n",
       "    </tr>\n",
       "  </tbody>\n",
       "</table>\n",
       "</div>"
      ],
      "text/plain": [
       "                                 features  Coefficient Estimate\n",
       "0                             Partner_Yes              0.050376\n",
       "1                          Dependents_Yes             -0.187757\n",
       "2             InternetService_Fiber optic              0.554334\n",
       "3                      InternetService_No             -0.168163\n",
       "4      OnlineSecurity_No internet service             -0.168163\n",
       "5                      OnlineSecurity_Yes             -0.537322\n",
       "6        OnlineBackup_No internet service             -0.168163\n",
       "7                        OnlineBackup_Yes             -0.242833\n",
       "8    DeviceProtection_No internet service             -0.168163\n",
       "9                    DeviceProtection_Yes             -0.021401\n",
       "10        TechSupport_No internet service             -0.168163\n",
       "11                        TechSupport_Yes             -0.458837\n",
       "12        StreamingTV_No internet service             -0.168163\n",
       "13    StreamingMovies_No internet service             -0.168163\n",
       "14                      Contract_One year             -0.322017\n",
       "15                      Contract_Two year             -0.613799\n",
       "16                   PaperlessBilling_Yes              0.457717\n",
       "17  PaymentMethod_Credit card (automatic)             -0.150151\n",
       "18         PaymentMethod_Electronic check              0.235317\n",
       "19             PaymentMethod_Mailed check             -0.015295\n",
       "20                                 tenure             -0.065344\n",
       "21                         MonthlyCharges              0.002018\n",
       "22                           TotalCharges              0.000376\n",
       "23                          SeniorCitizen              0.266727"
      ]
     },
     "execution_count": 58,
     "metadata": {},
     "output_type": "execute_result"
    }
   ],
   "source": [
    "coeff_df=pd.DataFrame(X_all.columns)\n",
    "coeff_df.columns=['features']\n",
    "coeff_df[\"Coefficient Estimate\"] = pd.Series(logreg.coef_[0])\n",
    "coeff_df"
   ]
  },
  {
   "cell_type": "code",
   "execution_count": 59,
   "id": "8b5ddd38",
   "metadata": {
    "execution": {
     "iopub.execute_input": "2022-03-23T04:59:59.699564Z",
     "iopub.status.busy": "2022-03-23T04:59:59.697669Z",
     "iopub.status.idle": "2022-03-23T04:59:59.729159Z",
     "shell.execute_reply": "2022-03-23T04:59:59.729948Z",
     "shell.execute_reply.started": "2022-03-23T04:50:20.087546Z"
    },
    "papermill": {
     "duration": 0.175305,
     "end_time": "2022-03-23T04:59:59.730193",
     "exception": false,
     "start_time": "2022-03-23T04:59:59.554888",
     "status": "completed"
    },
    "tags": []
   },
   "outputs": [],
   "source": [
    "# Building a Decision Tree Model\n",
    "from sklearn.tree import DecisionTreeClassifier\n",
    "dtree=DecisionTreeClassifier(criterion='gini',random_state=99)"
   ]
  },
  {
   "cell_type": "code",
   "execution_count": 60,
   "id": "0d4fa12f",
   "metadata": {
    "execution": {
     "iopub.execute_input": "2022-03-23T05:00:00.000917Z",
     "iopub.status.busy": "2022-03-23T05:00:00.000256Z",
     "iopub.status.idle": "2022-03-23T05:00:03.060027Z",
     "shell.execute_reply": "2022-03-23T05:00:03.059206Z",
     "shell.execute_reply.started": "2022-03-23T04:50:20.128104Z"
    },
    "papermill": {
     "duration": 3.195445,
     "end_time": "2022-03-23T05:00:03.060196",
     "exception": false,
     "start_time": "2022-03-23T04:59:59.864751",
     "status": "completed"
    },
    "tags": []
   },
   "outputs": [
    {
     "name": "stdout",
     "output_type": "stream",
     "text": [
      "Best Parameters using grid search: \n",
      " {'max_depth': 5, 'min_samples_split': 50}\n"
     ]
    }
   ],
   "source": [
    "from sklearn.model_selection import GridSearchCV\n",
    "param_dist = {'max_depth': [3, 5, 6, 7], 'min_samples_split': [50, 100, 150, 200, 250] }\n",
    "tree_grid = GridSearchCV(dtree, cv = 10, param_grid=param_dist,n_jobs = 3)\n",
    "tree_grid.fit(X_train,y_train) \n",
    "print('Best Parameters using grid search: \\n', tree_grid.best_params_)"
   ]
  },
  {
   "cell_type": "code",
   "execution_count": 61,
   "id": "7e2aa101",
   "metadata": {
    "execution": {
     "iopub.execute_input": "2022-03-23T05:00:03.332094Z",
     "iopub.status.busy": "2022-03-23T05:00:03.331334Z",
     "iopub.status.idle": "2022-03-23T05:00:03.351778Z",
     "shell.execute_reply": "2022-03-23T05:00:03.352356Z",
     "shell.execute_reply.started": "2022-03-23T04:50:22.955501Z"
    },
    "papermill": {
     "duration": 0.153063,
     "end_time": "2022-03-23T05:00:03.352552",
     "exception": false,
     "start_time": "2022-03-23T05:00:03.199489",
     "status": "completed"
    },
    "tags": []
   },
   "outputs": [
    {
     "data": {
      "text/plain": [
       "DecisionTreeClassifier(max_depth=5, min_samples_split=50, random_state=99)"
      ]
     },
     "execution_count": 61,
     "metadata": {},
     "output_type": "execute_result"
    }
   ],
   "source": [
    "dtree=DecisionTreeClassifier(criterion='gini',random_state=99,max_depth=5,min_samples_split=50)\n",
    "dtree.fit(X_train,y_train)"
   ]
  },
  {
   "cell_type": "code",
   "execution_count": 62,
   "id": "d28eeec9",
   "metadata": {
    "execution": {
     "iopub.execute_input": "2022-03-23T05:00:03.705481Z",
     "iopub.status.busy": "2022-03-23T05:00:03.704510Z",
     "iopub.status.idle": "2022-03-23T05:00:16.319485Z",
     "shell.execute_reply": "2022-03-23T05:00:16.318777Z",
     "shell.execute_reply.started": "2022-03-23T04:50:22.980056Z"
    },
    "papermill": {
     "duration": 12.834531,
     "end_time": "2022-03-23T05:00:16.319641",
     "exception": false,
     "start_time": "2022-03-23T05:00:03.485110",
     "status": "completed"
    },
    "tags": []
   },
   "outputs": [
    {
     "name": "stdout",
     "output_type": "stream",
     "text": [
      "Collecting pydotplus\r\n",
      "  Downloading pydotplus-2.0.2.tar.gz (278 kB)\r\n",
      "     |████████████████████████████████| 278 kB 3.1 MB/s            \r\n",
      "\u001b[?25h  Preparing metadata (setup.py) ... \u001b[?25l-\b \bdone\r\n",
      "\u001b[?25hRequirement already satisfied: pyparsing>=2.0.1 in /opt/conda/lib/python3.7/site-packages (from pydotplus) (3.0.6)\r\n",
      "Building wheels for collected packages: pydotplus\r\n",
      "  Building wheel for pydotplus (setup.py) ... \u001b[?25l-\b \b\\\b \bdone\r\n",
      "\u001b[?25h  Created wheel for pydotplus: filename=pydotplus-2.0.2-py3-none-any.whl size=24575 sha256=127f04dcbe75e9d544bccb9565456072dbf3186252ea154e6d1731e345c5efed\r\n",
      "  Stored in directory: /root/.cache/pip/wheels/1e/7b/04/7387cf6cc9e48b4a96e361b0be812f0708b394b821bf8c9c50\r\n",
      "Successfully built pydotplus\r\n",
      "Installing collected packages: pydotplus\r\n",
      "Successfully installed pydotplus-2.0.2\r\n",
      "\u001b[33mWARNING: Running pip as the 'root' user can result in broken permissions and conflicting behaviour with the system package manager. It is recommended to use a virtual environment instead: https://pip.pypa.io/warnings/venv\u001b[0m\r\n"
     ]
    }
   ],
   "source": [
    "!pip install pydotplus"
   ]
  },
  {
   "cell_type": "code",
   "execution_count": 63,
   "id": "1a04155c",
   "metadata": {
    "execution": {
     "iopub.execute_input": "2022-03-23T05:00:16.597966Z",
     "iopub.status.busy": "2022-03-23T05:00:16.597258Z",
     "iopub.status.idle": "2022-03-23T05:00:19.938233Z",
     "shell.execute_reply": "2022-03-23T05:00:19.938731Z",
     "shell.execute_reply.started": "2022-03-23T04:50:36.112238Z"
    },
    "papermill": {
     "duration": 3.482308,
     "end_time": "2022-03-23T05:00:19.938900",
     "exception": false,
     "start_time": "2022-03-23T05:00:16.456592",
     "status": "completed"
    },
    "tags": []
   },
   "outputs": [
    {
     "data": {
      "image/png": "[encoded data removed]",
      "text/plain": [
       "<Figure size 3600x720 with 1 Axes>"
      ]
     },
     "metadata": {
      "needs_background": "light"
     },
     "output_type": "display_data"
    }
   ],
   "source": [
    "from sklearn import tree\n",
    "import pydotplus\n",
    "import matplotlib.pyplot as plt\n",
    "plt.figure(figsize=[50,10])\n",
    "tree.plot_tree(dtree,filled=True,fontsize=15,rounded=True,feature_names=X_all.columns)\n",
    "plt.show()"
   ]
  },
  {
   "cell_type": "code",
   "execution_count": 64,
   "id": "e87748bb",
   "metadata": {
    "execution": {
     "iopub.execute_input": "2022-03-23T05:00:20.241285Z",
     "iopub.status.busy": "2022-03-23T05:00:20.240624Z",
     "iopub.status.idle": "2022-03-23T05:00:20.650330Z",
     "shell.execute_reply": "2022-03-23T05:00:20.650851Z",
     "shell.execute_reply.started": "2022-03-23T04:50:39.151436Z"
    },
    "papermill": {
     "duration": 0.562517,
     "end_time": "2022-03-23T05:00:20.651050",
     "exception": false,
     "start_time": "2022-03-23T05:00:20.088533",
     "status": "completed"
    },
    "tags": []
   },
   "outputs": [
    {
     "data": {
      "text/plain": [
       "RandomForestClassifier(max_depth=5, min_samples_split=50, random_state=99)"
      ]
     },
     "execution_count": 64,
     "metadata": {},
     "output_type": "execute_result"
    }
   ],
   "source": [
    "# Building a Random Forest Model\n",
    "from sklearn.ensemble import RandomForestClassifier\n",
    "rf=RandomForestClassifier(criterion='gini',random_state=99,max_depth=5,min_samples_split=50)\n",
    "rf.fit(X_train,y_train)"
   ]
  },
  {
   "cell_type": "code",
   "execution_count": 65,
   "id": "f0e59791",
   "metadata": {
    "execution": {
     "iopub.execute_input": "2022-03-23T05:00:20.982789Z",
     "iopub.status.busy": "2022-03-23T05:00:20.974958Z",
     "iopub.status.idle": "2022-03-23T05:00:20.986964Z",
     "shell.execute_reply": "2022-03-23T05:00:20.987472Z",
     "shell.execute_reply.started": "2022-03-23T04:50:39.502139Z"
    },
    "papermill": {
     "duration": 0.18442,
     "end_time": "2022-03-23T05:00:20.987649",
     "exception": false,
     "start_time": "2022-03-23T05:00:20.803229",
     "status": "completed"
    },
    "tags": []
   },
   "outputs": [
    {
     "data": {
      "text/html": [
       "<div>\n",
       "<style scoped>\n",
       "    .dataframe tbody tr th:only-of-type {\n",
       "        vertical-align: middle;\n",
       "    }\n",
       "\n",
       "    .dataframe tbody tr th {\n",
       "        vertical-align: top;\n",
       "    }\n",
       "\n",
       "    .dataframe thead th {\n",
       "        text-align: right;\n",
       "    }\n",
       "</style>\n",
       "<table border=\"1\" class=\"dataframe\">\n",
       "  <thead>\n",
       "    <tr style=\"text-align: right;\">\n",
       "      <th></th>\n",
       "      <th>importance</th>\n",
       "    </tr>\n",
       "  </thead>\n",
       "  <tbody>\n",
       "    <tr>\n",
       "      <th>tenure</th>\n",
       "      <td>0.210769</td>\n",
       "    </tr>\n",
       "    <tr>\n",
       "      <th>TotalCharges</th>\n",
       "      <td>0.137358</td>\n",
       "    </tr>\n",
       "    <tr>\n",
       "      <th>InternetService_Fiber optic</th>\n",
       "      <td>0.125506</td>\n",
       "    </tr>\n",
       "    <tr>\n",
       "      <th>PaymentMethod_Electronic check</th>\n",
       "      <td>0.097766</td>\n",
       "    </tr>\n",
       "    <tr>\n",
       "      <th>Contract_Two year</th>\n",
       "      <td>0.089422</td>\n",
       "    </tr>\n",
       "    <tr>\n",
       "      <th>MonthlyCharges</th>\n",
       "      <td>0.054412</td>\n",
       "    </tr>\n",
       "    <tr>\n",
       "      <th>Contract_One year</th>\n",
       "      <td>0.035487</td>\n",
       "    </tr>\n",
       "    <tr>\n",
       "      <th>OnlineSecurity_Yes</th>\n",
       "      <td>0.030397</td>\n",
       "    </tr>\n",
       "    <tr>\n",
       "      <th>PaperlessBilling_Yes</th>\n",
       "      <td>0.029803</td>\n",
       "    </tr>\n",
       "    <tr>\n",
       "      <th>TechSupport_Yes</th>\n",
       "      <td>0.025708</td>\n",
       "    </tr>\n",
       "    <tr>\n",
       "      <th>OnlineSecurity_No internet service</th>\n",
       "      <td>0.022125</td>\n",
       "    </tr>\n",
       "    <tr>\n",
       "      <th>DeviceProtection_No internet service</th>\n",
       "      <td>0.021837</td>\n",
       "    </tr>\n",
       "    <tr>\n",
       "      <th>TechSupport_No internet service</th>\n",
       "      <td>0.018721</td>\n",
       "    </tr>\n",
       "    <tr>\n",
       "      <th>InternetService_No</th>\n",
       "      <td>0.017021</td>\n",
       "    </tr>\n",
       "    <tr>\n",
       "      <th>OnlineBackup_No internet service</th>\n",
       "      <td>0.015949</td>\n",
       "    </tr>\n",
       "    <tr>\n",
       "      <th>StreamingTV_No internet service</th>\n",
       "      <td>0.015702</td>\n",
       "    </tr>\n",
       "    <tr>\n",
       "      <th>StreamingMovies_No internet service</th>\n",
       "      <td>0.015651</td>\n",
       "    </tr>\n",
       "    <tr>\n",
       "      <th>OnlineBackup_Yes</th>\n",
       "      <td>0.010362</td>\n",
       "    </tr>\n",
       "    <tr>\n",
       "      <th>DeviceProtection_Yes</th>\n",
       "      <td>0.007194</td>\n",
       "    </tr>\n",
       "    <tr>\n",
       "      <th>Partner_Yes</th>\n",
       "      <td>0.005173</td>\n",
       "    </tr>\n",
       "    <tr>\n",
       "      <th>PaymentMethod_Credit card (automatic)</th>\n",
       "      <td>0.004861</td>\n",
       "    </tr>\n",
       "    <tr>\n",
       "      <th>SeniorCitizen</th>\n",
       "      <td>0.004032</td>\n",
       "    </tr>\n",
       "    <tr>\n",
       "      <th>Dependents_Yes</th>\n",
       "      <td>0.003093</td>\n",
       "    </tr>\n",
       "    <tr>\n",
       "      <th>PaymentMethod_Mailed check</th>\n",
       "      <td>0.001652</td>\n",
       "    </tr>\n",
       "  </tbody>\n",
       "</table>\n",
       "</div>"
      ],
      "text/plain": [
       "                                       importance\n",
       "tenure                                   0.210769\n",
       "TotalCharges                             0.137358\n",
       "InternetService_Fiber optic              0.125506\n",
       "PaymentMethod_Electronic check           0.097766\n",
       "Contract_Two year                        0.089422\n",
       "MonthlyCharges                           0.054412\n",
       "Contract_One year                        0.035487\n",
       "OnlineSecurity_Yes                       0.030397\n",
       "PaperlessBilling_Yes                     0.029803\n",
       "TechSupport_Yes                          0.025708\n",
       "OnlineSecurity_No internet service       0.022125\n",
       "DeviceProtection_No internet service     0.021837\n",
       "TechSupport_No internet service          0.018721\n",
       "InternetService_No                       0.017021\n",
       "OnlineBackup_No internet service         0.015949\n",
       "StreamingTV_No internet service          0.015702\n",
       "StreamingMovies_No internet service      0.015651\n",
       "OnlineBackup_Yes                         0.010362\n",
       "DeviceProtection_Yes                     0.007194\n",
       "Partner_Yes                              0.005173\n",
       "PaymentMethod_Credit card (automatic)    0.004861\n",
       "SeniorCitizen                            0.004032\n",
       "Dependents_Yes                           0.003093\n",
       "PaymentMethod_Mailed check               0.001652"
      ]
     },
     "execution_count": 65,
     "metadata": {},
     "output_type": "execute_result"
    }
   ],
   "source": [
    "import pandas as pd\n",
    "feature_importances=pd.DataFrame(rf.feature_importances_,\n",
    "                                 index=X_train.columns,\n",
    "                                 columns=['importance']).sort_values('importance',ascending=False)\n",
    "feature_importances"
   ]
  },
  {
   "cell_type": "code",
   "execution_count": 66,
   "id": "27788835",
   "metadata": {
    "execution": {
     "iopub.execute_input": "2022-03-23T05:00:21.294008Z",
     "iopub.status.busy": "2022-03-23T05:00:21.293301Z",
     "iopub.status.idle": "2022-03-23T05:00:21.295726Z",
     "shell.execute_reply": "2022-03-23T05:00:21.295028Z",
     "shell.execute_reply.started": "2022-03-23T04:50:39.526158Z"
    },
    "papermill": {
     "duration": 0.157429,
     "end_time": "2022-03-23T05:00:21.295871",
     "exception": false,
     "start_time": "2022-03-23T05:00:21.138442",
     "status": "completed"
    },
    "tags": []
   },
   "outputs": [],
   "source": [
    "#stacking\n",
    "base_learners = [      ('rf', RandomForestClassifier(criterion='gini',random_state=0,max_depth=6,min_samples_split=50)),\n",
    "                       ('dtree', DecisionTreeClassifier(criterion='gini',random_state=99,max_depth=5,min_samples_split=50))\n",
    "                       ] "
   ]
  },
  {
   "cell_type": "code",
   "execution_count": 67,
   "id": "a998f080",
   "metadata": {
    "execution": {
     "iopub.execute_input": "2022-03-23T05:00:21.600990Z",
     "iopub.status.busy": "2022-03-23T05:00:21.598787Z",
     "iopub.status.idle": "2022-03-23T05:00:21.603490Z",
     "shell.execute_reply": "2022-03-23T05:00:21.602860Z",
     "shell.execute_reply.started": "2022-03-23T04:50:39.540367Z"
    },
    "papermill": {
     "duration": 0.157976,
     "end_time": "2022-03-23T05:00:21.603639",
     "exception": false,
     "start_time": "2022-03-23T05:00:21.445663",
     "status": "completed"
    },
    "tags": []
   },
   "outputs": [],
   "source": [
    "from sklearn.ensemble import StackingClassifier\n",
    "clf = StackingClassifier(estimators=base_learners, final_estimator=LogisticRegression())"
   ]
  },
  {
   "cell_type": "code",
   "execution_count": 68,
   "id": "1faa85cd",
   "metadata": {
    "execution": {
     "iopub.execute_input": "2022-03-23T05:00:21.908117Z",
     "iopub.status.busy": "2022-03-23T05:00:21.907435Z",
     "iopub.status.idle": "2022-03-23T05:00:24.067503Z",
     "shell.execute_reply": "2022-03-23T05:00:24.068403Z",
     "shell.execute_reply.started": "2022-03-23T04:50:39.549217Z"
    },
    "papermill": {
     "duration": 2.314039,
     "end_time": "2022-03-23T05:00:24.068686",
     "exception": false,
     "start_time": "2022-03-23T05:00:21.754647",
     "status": "completed"
    },
    "tags": []
   },
   "outputs": [
    {
     "data": {
      "text/plain": [
       "StackingClassifier(estimators=[('rf',\n",
       "                                RandomForestClassifier(max_depth=6,\n",
       "                                                       min_samples_split=50,\n",
       "                                                       random_state=0)),\n",
       "                               ('dtree',\n",
       "                                DecisionTreeClassifier(max_depth=5,\n",
       "                                                       min_samples_split=50,\n",
       "                                                       random_state=99))],\n",
       "                   final_estimator=LogisticRegression())"
      ]
     },
     "execution_count": 68,
     "metadata": {},
     "output_type": "execute_result"
    }
   ],
   "source": [
    "clf.fit(X_train, y_train)"
   ]
  },
  {
   "cell_type": "code",
   "execution_count": 69,
   "id": "dd7972be",
   "metadata": {
    "execution": {
     "iopub.execute_input": "2022-03-23T05:00:24.427016Z",
     "iopub.status.busy": "2022-03-23T05:00:24.426011Z",
     "iopub.status.idle": "2022-03-23T05:00:24.543721Z",
     "shell.execute_reply": "2022-03-23T05:00:24.544734Z",
     "shell.execute_reply.started": "2022-03-23T04:50:41.468835Z"
    },
    "papermill": {
     "duration": 0.274436,
     "end_time": "2022-03-23T05:00:24.545034",
     "exception": false,
     "start_time": "2022-03-23T05:00:24.270598",
     "status": "completed"
    },
    "tags": []
   },
   "outputs": [],
   "source": [
    "# Model Evaluation\n",
    "y_pred_logreg=logreg.predict(X_test)\n",
    "y_pred_tree=dtree.predict(X_test)\n",
    "y_pred_rf=rf.predict(X_test)\n",
    "y_pred_stacking=clf.predict(X_test)"
   ]
  },
  {
   "cell_type": "code",
   "execution_count": 70,
   "id": "c2089d6d",
   "metadata": {
    "execution": {
     "iopub.execute_input": "2022-03-23T05:00:24.850253Z",
     "iopub.status.busy": "2022-03-23T05:00:24.849207Z",
     "iopub.status.idle": "2022-03-23T05:00:24.853175Z",
     "shell.execute_reply": "2022-03-23T05:00:24.853638Z",
     "shell.execute_reply.started": "2022-03-23T04:50:41.595293Z"
    },
    "papermill": {
     "duration": 0.157654,
     "end_time": "2022-03-23T05:00:24.853811",
     "exception": false,
     "start_time": "2022-03-23T05:00:24.696157",
     "status": "completed"
    },
    "tags": []
   },
   "outputs": [],
   "source": [
    "from sklearn import metrics\n",
    "from sklearn.metrics import confusion_matrix"
   ]
  },
  {
   "cell_type": "code",
   "execution_count": 71,
   "id": "2a31d0f1",
   "metadata": {
    "execution": {
     "iopub.execute_input": "2022-03-23T05:00:25.165256Z",
     "iopub.status.busy": "2022-03-23T05:00:25.164206Z",
     "iopub.status.idle": "2022-03-23T05:00:25.174284Z",
     "shell.execute_reply": "2022-03-23T05:00:25.174736Z",
     "shell.execute_reply.started": "2022-03-23T04:50:41.601997Z"
    },
    "papermill": {
     "duration": 0.170317,
     "end_time": "2022-03-23T05:00:25.174910",
     "exception": false,
     "start_time": "2022-03-23T05:00:25.004593",
     "status": "completed"
    },
    "tags": []
   },
   "outputs": [
    {
     "name": "stdout",
     "output_type": "stream",
     "text": [
      "Logistic Regression\n",
      "Accuracy: 0.7993374349266446\n",
      "Precision 0.6560364464692483\n",
      "Recall 0.5133689839572193\n",
      "f1_score 0.5760000000000001\n"
     ]
    }
   ],
   "source": [
    "print('Logistic Regression')\n",
    "print(\"Accuracy:\",metrics.accuracy_score(y_test, y_pred_logreg))\n",
    "print(\"Precision\",metrics.precision_score(y_test,y_pred_logreg))\n",
    "print(\"Recall\",metrics.recall_score(y_test,y_pred_logreg))\n",
    "print(\"f1_score\",metrics.f1_score(y_test,y_pred_logreg))"
   ]
  },
  {
   "cell_type": "code",
   "execution_count": 72,
   "id": "c3e5feda",
   "metadata": {
    "execution": {
     "iopub.execute_input": "2022-03-23T05:00:25.481583Z",
     "iopub.status.busy": "2022-03-23T05:00:25.480882Z",
     "iopub.status.idle": "2022-03-23T05:00:25.775236Z",
     "shell.execute_reply": "2022-03-23T05:00:25.775696Z",
     "shell.execute_reply.started": "2022-03-23T04:50:41.626728Z"
    },
    "papermill": {
     "duration": 0.447581,
     "end_time": "2022-03-23T05:00:25.775877",
     "exception": false,
     "start_time": "2022-03-23T05:00:25.328296",
     "status": "completed"
    },
    "tags": []
   },
   "outputs": [
    {
     "data": {
      "text/plain": [
       "<sklearn.metrics._plot.confusion_matrix.ConfusionMatrixDisplay at 0x7ff78cb33250>"
      ]
     },
     "execution_count": 72,
     "metadata": {},
     "output_type": "execute_result"
    },
    {
     "data": {
      "image/png": "[encoded data removed]",
      "text/plain": [
       "<Figure size 432x288 with 2 Axes>"
      ]
     },
     "metadata": {
      "needs_background": "light"
     },
     "output_type": "display_data"
    }
   ],
   "source": [
    "metrics.plot_confusion_matrix(logreg,X_test,y_test)"
   ]
  },
  {
   "cell_type": "code",
   "execution_count": 73,
   "id": "b5588836",
   "metadata": {
    "execution": {
     "iopub.execute_input": "2022-03-23T05:00:26.088612Z",
     "iopub.status.busy": "2022-03-23T05:00:26.087661Z",
     "iopub.status.idle": "2022-03-23T05:00:26.099878Z",
     "shell.execute_reply": "2022-03-23T05:00:26.099232Z",
     "shell.execute_reply.started": "2022-03-23T04:50:41.916967Z"
    },
    "papermill": {
     "duration": 0.170225,
     "end_time": "2022-03-23T05:00:26.100098",
     "exception": false,
     "start_time": "2022-03-23T05:00:25.929873",
     "status": "completed"
    },
    "tags": []
   },
   "outputs": [
    {
     "name": "stdout",
     "output_type": "stream",
     "text": [
      "Decision Tree\n",
      "Accuracy: 0.7889256980596309\n",
      "Precision 0.631578947368421\n",
      "Recall 0.4919786096256685\n",
      "f1_score 0.5531062124248498\n"
     ]
    }
   ],
   "source": [
    "print('Decision Tree')\n",
    "print(\"Accuracy:\",metrics.accuracy_score(y_test, y_pred_tree))\n",
    "print(\"Precision\",metrics.precision_score(y_test,y_pred_tree))\n",
    "print(\"Recall\",metrics.recall_score(y_test,y_pred_tree))\n",
    "print(\"f1_score\",metrics.f1_score(y_test,y_pred_tree))"
   ]
  },
  {
   "cell_type": "code",
   "execution_count": 74,
   "id": "3313dd00",
   "metadata": {
    "execution": {
     "iopub.execute_input": "2022-03-23T05:00:26.419722Z",
     "iopub.status.busy": "2022-03-23T05:00:26.418999Z",
     "iopub.status.idle": "2022-03-23T05:00:26.650575Z",
     "shell.execute_reply": "2022-03-23T05:00:26.649972Z",
     "shell.execute_reply.started": "2022-03-23T04:50:41.934731Z"
    },
    "papermill": {
     "duration": 0.394408,
     "end_time": "2022-03-23T05:00:26.650712",
     "exception": false,
     "start_time": "2022-03-23T05:00:26.256304",
     "status": "completed"
    },
    "tags": []
   },
   "outputs": [
    {
     "data": {
      "text/plain": [
       "<sklearn.metrics._plot.confusion_matrix.ConfusionMatrixDisplay at 0x7ff78ccdf7d0>"
      ]
     },
     "execution_count": 74,
     "metadata": {},
     "output_type": "execute_result"
    },
    {
     "data": {
      "image/png": "[encoded data removed]",
      "text/plain": [
       "<Figure size 432x288 with 2 Axes>"
      ]
     },
     "metadata": {
      "needs_background": "light"
     },
     "output_type": "display_data"
    }
   ],
   "source": [
    "metrics.plot_confusion_matrix(dtree,X_test,y_test)"
   ]
  },
  {
   "cell_type": "code",
   "execution_count": 75,
   "id": "760b21a2",
   "metadata": {
    "execution": {
     "iopub.execute_input": "2022-03-23T05:00:26.965716Z",
     "iopub.status.busy": "2022-03-23T05:00:26.964982Z",
     "iopub.status.idle": "2022-03-23T05:00:26.977247Z",
     "shell.execute_reply": "2022-03-23T05:00:26.977795Z",
     "shell.execute_reply.started": "2022-03-23T04:50:42.164481Z"
    },
    "papermill": {
     "duration": 0.17412,
     "end_time": "2022-03-23T05:00:26.977986",
     "exception": false,
     "start_time": "2022-03-23T05:00:26.803866",
     "status": "completed"
    },
    "tags": []
   },
   "outputs": [
    {
     "name": "stdout",
     "output_type": "stream",
     "text": [
      "Random Forest\n",
      "Accuracy: 0.7927117841930904\n",
      "Precision 0.6732394366197183\n",
      "Recall 0.42602495543672014\n",
      "f1_score 0.5218340611353712\n"
     ]
    }
   ],
   "source": [
    "print('Random Forest')\n",
    "print(\"Accuracy:\",metrics.accuracy_score(y_test, y_pred_rf))\n",
    "print(\"Precision\",metrics.precision_score(y_test,y_pred_rf))\n",
    "print(\"Recall\",metrics.recall_score(y_test,y_pred_rf))\n",
    "print(\"f1_score\",metrics.f1_score(y_test,y_pred_rf))"
   ]
  },
  {
   "cell_type": "code",
   "execution_count": 76,
   "id": "b50612e6",
   "metadata": {
    "execution": {
     "iopub.execute_input": "2022-03-23T05:00:27.295973Z",
     "iopub.status.busy": "2022-03-23T05:00:27.295308Z",
     "iopub.status.idle": "2022-03-23T05:00:27.563034Z",
     "shell.execute_reply": "2022-03-23T05:00:27.562474Z",
     "shell.execute_reply.started": "2022-03-23T04:50:42.183047Z"
    },
    "papermill": {
     "duration": 0.430136,
     "end_time": "2022-03-23T05:00:27.563184",
     "exception": false,
     "start_time": "2022-03-23T05:00:27.133048",
     "status": "completed"
    },
    "tags": []
   },
   "outputs": [
    {
     "data": {
      "text/plain": [
       "<sklearn.metrics._plot.confusion_matrix.ConfusionMatrixDisplay at 0x7ff7b1b2af90>"
      ]
     },
     "execution_count": 76,
     "metadata": {},
     "output_type": "execute_result"
    },
    {
     "data": {
      "image/png": "[encoded data removed]",
      "text/plain": [
       "<Figure size 432x288 with 2 Axes>"
      ]
     },
     "metadata": {
      "needs_background": "light"
     },
     "output_type": "display_data"
    }
   ],
   "source": [
    "metrics.plot_confusion_matrix(rf,X_test,y_test)"
   ]
  },
  {
   "cell_type": "code",
   "execution_count": 77,
   "id": "d22f7d7d",
   "metadata": {
    "execution": {
     "iopub.execute_input": "2022-03-23T05:00:27.883495Z",
     "iopub.status.busy": "2022-03-23T05:00:27.882467Z",
     "iopub.status.idle": "2022-03-23T05:00:27.893685Z",
     "shell.execute_reply": "2022-03-23T05:00:27.894374Z",
     "shell.execute_reply.started": "2022-03-23T04:50:42.452232Z"
    },
    "papermill": {
     "duration": 0.176746,
     "end_time": "2022-03-23T05:00:27.894615",
     "exception": false,
     "start_time": "2022-03-23T05:00:27.717869",
     "status": "completed"
    },
    "tags": []
   },
   "outputs": [
    {
     "name": "stdout",
     "output_type": "stream",
     "text": [
      "Stacking\n",
      "Accuracy: 0.7974443918599148\n",
      "Precision 0.6557377049180327\n",
      "Recall 0.49910873440285203\n",
      "f1_score 0.5668016194331983\n"
     ]
    }
   ],
   "source": [
    "print('Stacking')\n",
    "print(\"Accuracy:\",metrics.accuracy_score(y_test, y_pred_stacking))\n",
    "print(\"Precision\",metrics.precision_score(y_test,y_pred_stacking))\n",
    "print(\"Recall\",metrics.recall_score(y_test,y_pred_stacking))\n",
    "print(\"f1_score\",metrics.f1_score(y_test,y_pred_stacking))"
   ]
  },
  {
   "cell_type": "code",
   "execution_count": 78,
   "id": "76222b46",
   "metadata": {
    "execution": {
     "iopub.execute_input": "2022-03-23T05:00:28.211862Z",
     "iopub.status.busy": "2022-03-23T05:00:28.211217Z",
     "iopub.status.idle": "2022-03-23T05:00:28.484517Z",
     "shell.execute_reply": "2022-03-23T05:00:28.485059Z",
     "shell.execute_reply.started": "2022-03-23T04:50:42.467111Z"
    },
    "papermill": {
     "duration": 0.432538,
     "end_time": "2022-03-23T05:00:28.485233",
     "exception": false,
     "start_time": "2022-03-23T05:00:28.052695",
     "status": "completed"
    },
    "tags": []
   },
   "outputs": [
    {
     "data": {
      "text/plain": [
       "<sklearn.metrics._plot.confusion_matrix.ConfusionMatrixDisplay at 0x7ff7b0d56910>"
      ]
     },
     "execution_count": 78,
     "metadata": {},
     "output_type": "execute_result"
    },
    {
     "data": {
      "image/png": "[encoded data removed]",
      "text/plain": [
       "<Figure size 432x288 with 2 Axes>"
      ]
     },
     "metadata": {
      "needs_background": "light"
     },
     "output_type": "display_data"
    }
   ],
   "source": [
    "metrics.plot_confusion_matrix(clf,X_test,y_test)"
   ]
  },
  {
   "cell_type": "markdown",
   "id": "21f2a293",
   "metadata": {
    "papermill": {
     "duration": 0.15684,
     "end_time": "2022-03-23T05:00:28.799195",
     "exception": false,
     "start_time": "2022-03-23T05:00:28.642355",
     "status": "completed"
    },
    "tags": []
   },
   "source": [
    "## Probability Decile Analysis"
   ]
  },
  {
   "cell_type": "code",
   "execution_count": 79,
   "id": "4935e8fc",
   "metadata": {
    "execution": {
     "iopub.execute_input": "2022-03-23T05:00:29.119160Z",
     "iopub.status.busy": "2022-03-23T05:00:29.118412Z",
     "iopub.status.idle": "2022-03-23T05:00:29.218988Z",
     "shell.execute_reply": "2022-03-23T05:00:29.220078Z",
     "shell.execute_reply.started": "2022-03-23T04:50:42.733662Z"
    },
    "papermill": {
     "duration": 0.262323,
     "end_time": "2022-03-23T05:00:29.220377",
     "exception": false,
     "start_time": "2022-03-23T05:00:28.958054",
     "status": "completed"
    },
    "tags": []
   },
   "outputs": [
    {
     "data": {
      "text/html": [
       "<div>\n",
       "<style scoped>\n",
       "    .dataframe tbody tr th:only-of-type {\n",
       "        vertical-align: middle;\n",
       "    }\n",
       "\n",
       "    .dataframe tbody tr th {\n",
       "        vertical-align: top;\n",
       "    }\n",
       "\n",
       "    .dataframe thead th {\n",
       "        text-align: right;\n",
       "    }\n",
       "</style>\n",
       "<table border=\"1\" class=\"dataframe\">\n",
       "  <thead>\n",
       "    <tr style=\"text-align: right;\">\n",
       "      <th></th>\n",
       "      <th>P_Rank_logreg</th>\n",
       "      <th>count</th>\n",
       "      <th>Actutal_event_rate</th>\n",
       "      <th>Predicted_event_rate</th>\n",
       "      <th>N_events</th>\n",
       "      <th>cum_events</th>\n",
       "      <th>event_cap</th>\n",
       "      <th>cum_event_cap</th>\n",
       "      <th>N_non_events</th>\n",
       "      <th>cum_non_events</th>\n",
       "      <th>non_event_cap</th>\n",
       "      <th>cum_non_event_cap</th>\n",
       "      <th>KS</th>\n",
       "      <th>random_cap</th>\n",
       "      <th>cum_random_cap</th>\n",
       "      <th>Decile</th>\n",
       "    </tr>\n",
       "  </thead>\n",
       "  <tbody>\n",
       "    <tr>\n",
       "      <th>0</th>\n",
       "      <td>10</td>\n",
       "      <td>705</td>\n",
       "      <td>0.757447</td>\n",
       "      <td>0.717227</td>\n",
       "      <td>534.0</td>\n",
       "      <td>534.0</td>\n",
       "      <td>0.285714</td>\n",
       "      <td>0.285714</td>\n",
       "      <td>171.0</td>\n",
       "      <td>171.0</td>\n",
       "      <td>0.033050</td>\n",
       "      <td>0.033050</td>\n",
       "      <td>0.2527</td>\n",
       "      <td>0.100099</td>\n",
       "      <td>0.100099</td>\n",
       "      <td>1</td>\n",
       "    </tr>\n",
       "    <tr>\n",
       "      <th>1</th>\n",
       "      <td>9</td>\n",
       "      <td>704</td>\n",
       "      <td>0.586648</td>\n",
       "      <td>0.579826</td>\n",
       "      <td>413.0</td>\n",
       "      <td>947.0</td>\n",
       "      <td>0.220974</td>\n",
       "      <td>0.506688</td>\n",
       "      <td>291.0</td>\n",
       "      <td>462.0</td>\n",
       "      <td>0.056243</td>\n",
       "      <td>0.089293</td>\n",
       "      <td>0.4174</td>\n",
       "      <td>0.099957</td>\n",
       "      <td>0.200057</td>\n",
       "      <td>2</td>\n",
       "    </tr>\n",
       "    <tr>\n",
       "      <th>2</th>\n",
       "      <td>8</td>\n",
       "      <td>704</td>\n",
       "      <td>0.436080</td>\n",
       "      <td>0.452979</td>\n",
       "      <td>307.0</td>\n",
       "      <td>1254.0</td>\n",
       "      <td>0.164259</td>\n",
       "      <td>0.670947</td>\n",
       "      <td>397.0</td>\n",
       "      <td>859.0</td>\n",
       "      <td>0.076730</td>\n",
       "      <td>0.166022</td>\n",
       "      <td>0.5049</td>\n",
       "      <td>0.099957</td>\n",
       "      <td>0.300014</td>\n",
       "      <td>3</td>\n",
       "    </tr>\n",
       "    <tr>\n",
       "      <th>3</th>\n",
       "      <td>7</td>\n",
       "      <td>704</td>\n",
       "      <td>0.311080</td>\n",
       "      <td>0.327987</td>\n",
       "      <td>219.0</td>\n",
       "      <td>1473.0</td>\n",
       "      <td>0.117175</td>\n",
       "      <td>0.788122</td>\n",
       "      <td>485.0</td>\n",
       "      <td>1344.0</td>\n",
       "      <td>0.093738</td>\n",
       "      <td>0.259760</td>\n",
       "      <td>0.5284</td>\n",
       "      <td>0.099957</td>\n",
       "      <td>0.399972</td>\n",
       "      <td>4</td>\n",
       "    </tr>\n",
       "    <tr>\n",
       "      <th>4</th>\n",
       "      <td>6</td>\n",
       "      <td>704</td>\n",
       "      <td>0.234375</td>\n",
       "      <td>0.225060</td>\n",
       "      <td>165.0</td>\n",
       "      <td>1638.0</td>\n",
       "      <td>0.088283</td>\n",
       "      <td>0.876404</td>\n",
       "      <td>539.0</td>\n",
       "      <td>1883.0</td>\n",
       "      <td>0.104175</td>\n",
       "      <td>0.363935</td>\n",
       "      <td>0.5125</td>\n",
       "      <td>0.099957</td>\n",
       "      <td>0.499929</td>\n",
       "      <td>5</td>\n",
       "    </tr>\n",
       "    <tr>\n",
       "      <th>5</th>\n",
       "      <td>5</td>\n",
       "      <td>705</td>\n",
       "      <td>0.151773</td>\n",
       "      <td>0.157115</td>\n",
       "      <td>107.0</td>\n",
       "      <td>1745.0</td>\n",
       "      <td>0.057250</td>\n",
       "      <td>0.933654</td>\n",
       "      <td>598.0</td>\n",
       "      <td>2481.0</td>\n",
       "      <td>0.115578</td>\n",
       "      <td>0.479513</td>\n",
       "      <td>0.4541</td>\n",
       "      <td>0.100099</td>\n",
       "      <td>0.600028</td>\n",
       "      <td>6</td>\n",
       "    </tr>\n",
       "    <tr>\n",
       "      <th>6</th>\n",
       "      <td>4</td>\n",
       "      <td>704</td>\n",
       "      <td>0.071023</td>\n",
       "      <td>0.097532</td>\n",
       "      <td>50.0</td>\n",
       "      <td>1795.0</td>\n",
       "      <td>0.026752</td>\n",
       "      <td>0.960407</td>\n",
       "      <td>654.0</td>\n",
       "      <td>3135.0</td>\n",
       "      <td>0.126401</td>\n",
       "      <td>0.605914</td>\n",
       "      <td>0.3545</td>\n",
       "      <td>0.099957</td>\n",
       "      <td>0.699986</td>\n",
       "      <td>7</td>\n",
       "    </tr>\n",
       "    <tr>\n",
       "      <th>7</th>\n",
       "      <td>3</td>\n",
       "      <td>704</td>\n",
       "      <td>0.063920</td>\n",
       "      <td>0.054069</td>\n",
       "      <td>45.0</td>\n",
       "      <td>1840.0</td>\n",
       "      <td>0.024077</td>\n",
       "      <td>0.984484</td>\n",
       "      <td>659.0</td>\n",
       "      <td>3794.0</td>\n",
       "      <td>0.127368</td>\n",
       "      <td>0.733282</td>\n",
       "      <td>0.2512</td>\n",
       "      <td>0.099957</td>\n",
       "      <td>0.799943</td>\n",
       "      <td>8</td>\n",
       "    </tr>\n",
       "    <tr>\n",
       "      <th>8</th>\n",
       "      <td>2</td>\n",
       "      <td>704</td>\n",
       "      <td>0.026989</td>\n",
       "      <td>0.023722</td>\n",
       "      <td>19.0</td>\n",
       "      <td>1859.0</td>\n",
       "      <td>0.010166</td>\n",
       "      <td>0.994650</td>\n",
       "      <td>685.0</td>\n",
       "      <td>4479.0</td>\n",
       "      <td>0.132393</td>\n",
       "      <td>0.865675</td>\n",
       "      <td>0.1290</td>\n",
       "      <td>0.099957</td>\n",
       "      <td>0.899901</td>\n",
       "      <td>9</td>\n",
       "    </tr>\n",
       "    <tr>\n",
       "      <th>9</th>\n",
       "      <td>1</td>\n",
       "      <td>705</td>\n",
       "      <td>0.014184</td>\n",
       "      <td>0.006583</td>\n",
       "      <td>10.0</td>\n",
       "      <td>1869.0</td>\n",
       "      <td>0.005350</td>\n",
       "      <td>1.000000</td>\n",
       "      <td>695.0</td>\n",
       "      <td>5174.0</td>\n",
       "      <td>0.134325</td>\n",
       "      <td>1.000000</td>\n",
       "      <td>0.0000</td>\n",
       "      <td>0.100099</td>\n",
       "      <td>1.000000</td>\n",
       "      <td>10</td>\n",
       "    </tr>\n",
       "  </tbody>\n",
       "</table>\n",
       "</div>"
      ],
      "text/plain": [
       "   P_Rank_logreg  count  Actutal_event_rate  Predicted_event_rate  N_events  \\\n",
       "0             10    705            0.757447              0.717227     534.0   \n",
       "1              9    704            0.586648              0.579826     413.0   \n",
       "2              8    704            0.436080              0.452979     307.0   \n",
       "3              7    704            0.311080              0.327987     219.0   \n",
       "4              6    704            0.234375              0.225060     165.0   \n",
       "5              5    705            0.151773              0.157115     107.0   \n",
       "6              4    704            0.071023              0.097532      50.0   \n",
       "7              3    704            0.063920              0.054069      45.0   \n",
       "8              2    704            0.026989              0.023722      19.0   \n",
       "9              1    705            0.014184              0.006583      10.0   \n",
       "\n",
       "   cum_events  event_cap  cum_event_cap  N_non_events  cum_non_events  \\\n",
       "0       534.0   0.285714       0.285714         171.0           171.0   \n",
       "1       947.0   0.220974       0.506688         291.0           462.0   \n",
       "2      1254.0   0.164259       0.670947         397.0           859.0   \n",
       "3      1473.0   0.117175       0.788122         485.0          1344.0   \n",
       "4      1638.0   0.088283       0.876404         539.0          1883.0   \n",
       "5      1745.0   0.057250       0.933654         598.0          2481.0   \n",
       "6      1795.0   0.026752       0.960407         654.0          3135.0   \n",
       "7      1840.0   0.024077       0.984484         659.0          3794.0   \n",
       "8      1859.0   0.010166       0.994650         685.0          4479.0   \n",
       "9      1869.0   0.005350       1.000000         695.0          5174.0   \n",
       "\n",
       "   non_event_cap  cum_non_event_cap      KS  random_cap  cum_random_cap  \\\n",
       "0       0.033050           0.033050  0.2527    0.100099        0.100099   \n",
       "1       0.056243           0.089293  0.4174    0.099957        0.200057   \n",
       "2       0.076730           0.166022  0.5049    0.099957        0.300014   \n",
       "3       0.093738           0.259760  0.5284    0.099957        0.399972   \n",
       "4       0.104175           0.363935  0.5125    0.099957        0.499929   \n",
       "5       0.115578           0.479513  0.4541    0.100099        0.600028   \n",
       "6       0.126401           0.605914  0.3545    0.099957        0.699986   \n",
       "7       0.127368           0.733282  0.2512    0.099957        0.799943   \n",
       "8       0.132393           0.865675  0.1290    0.099957        0.899901   \n",
       "9       0.134325           1.000000  0.0000    0.100099        1.000000   \n",
       "\n",
       "   Decile  \n",
       "0       1  \n",
       "1       2  \n",
       "2       3  \n",
       "3       4  \n",
       "4       5  \n",
       "5       6  \n",
       "6       7  \n",
       "7       8  \n",
       "8       9  \n",
       "9      10  "
      ]
     },
     "execution_count": 79,
     "metadata": {},
     "output_type": "execute_result"
    }
   ],
   "source": [
    "# Logistic Regression Lorenz Curve\n",
    "\n",
    "y_pred_prob = logreg.predict_proba(X_all)[:, 1]\n",
    "df['pred_prob_logreg']=pd.DataFrame(y_pred_prob)\n",
    "df['P_Rank_logreg']=pd.qcut(df['pred_prob_logreg'].rank(method='first').values,10,duplicates='drop').codes+1\n",
    "rank_df_actuals=df.groupby('P_Rank_logreg')['target'].agg(['count','mean'])\n",
    "rank_df_predicted=df.groupby('P_Rank_logreg')['pred_prob_logreg'].agg(['mean'])\n",
    "rank_df_actuals=pd.DataFrame(rank_df_actuals)\n",
    "\n",
    "rank_df_actuals.rename(columns={'mean':'Actutal_event_rate'},inplace=True)\n",
    "rank_df_predicted=pd.DataFrame(rank_df_predicted)\n",
    "rank_df_predicted.rename(columns={'mean':'Predicted_event_rate'},inplace=True)\n",
    "rank_df=pd.concat([rank_df_actuals,rank_df_predicted],axis=1,join=\"inner\")\n",
    "\n",
    "sorted_rank_df=rank_df.sort_values(by='P_Rank_logreg',ascending=False)\n",
    "sorted_rank_df['N_events']=rank_df['count']*rank_df['Actutal_event_rate']\n",
    "sorted_rank_df['cum_events']=sorted_rank_df['N_events'].cumsum()\n",
    "sorted_rank_df['event_cap']=sorted_rank_df['N_events']/max(sorted_rank_df['N_events'].cumsum())\n",
    "sorted_rank_df['cum_event_cap']=sorted_rank_df['event_cap'].cumsum()\n",
    "\n",
    "sorted_rank_df['N_non_events']=sorted_rank_df['count']-sorted_rank_df['N_events']\n",
    "sorted_rank_df['cum_non_events']=sorted_rank_df['N_non_events'].cumsum()\n",
    "sorted_rank_df['non_event_cap']=sorted_rank_df['N_non_events']/max(sorted_rank_df['N_non_events'].cumsum())\n",
    "sorted_rank_df['cum_non_event_cap']=sorted_rank_df['non_event_cap'].cumsum()\n",
    "\n",
    "sorted_rank_df['KS']=round((sorted_rank_df['cum_event_cap']-sorted_rank_df['cum_non_event_cap']),4)\n",
    "\n",
    "sorted_rank_df['random_cap']=sorted_rank_df['count']/max(sorted_rank_df['count'].cumsum())\n",
    "sorted_rank_df['cum_random_cap']=sorted_rank_df['random_cap'].cumsum()\n",
    "sorted_reindexed=sorted_rank_df.reset_index()\n",
    "sorted_reindexed['Decile']=sorted_reindexed.index+1\n",
    "sorted_reindexed\n",
    "\n",
    "\n"
   ]
  },
  {
   "cell_type": "markdown",
   "id": "f37ff0b1",
   "metadata": {
    "papermill": {
     "duration": 0.158447,
     "end_time": "2022-03-23T05:00:29.557661",
     "exception": false,
     "start_time": "2022-03-23T05:00:29.399214",
     "status": "completed"
    },
    "tags": []
   },
   "source": [
    "* Gain Chart \n",
    "Gain at a given decile level is the ratio of cumulative number of targets (events) up to that decile to the total number of targets (events) in the entire data set\n",
    "% of targets (events) covered at a given decile level. For example, 80% of targets covered in top 20% of data based on model. In the case of propensity to buy model, we can say we can identify and target 80% of customers who are likely to buy the product by just sending email to 20% of total customers.\n",
    "\n",
    "* Lift Chart\n",
    "It measures how much better one can expect to do with the predictive model comparing without a model. It is the ratio of gain % to the random expectation % at a given decile level. The random expectation at the xth decile is x%.\n",
    "\n",
    "Ex: The Cum Lift of 4.03 for top two deciles, means that when selecting 20% of the records based on the model, one can expect 4.03 times the total number of targets (events) found by randomly selecting 20%-of-file without a model."
   ]
  },
  {
   "cell_type": "markdown",
   "id": "097129a3",
   "metadata": {
    "papermill": {
     "duration": 0.164269,
     "end_time": "2022-03-23T05:00:29.879843",
     "exception": false,
     "start_time": "2022-03-23T05:00:29.715574",
     "status": "completed"
    },
    "tags": []
   },
   "source": [
    "## Actual Vs. Predicted Event rate"
   ]
  },
  {
   "cell_type": "code",
   "execution_count": 80,
   "id": "16518051",
   "metadata": {
    "execution": {
     "iopub.execute_input": "2022-03-23T05:00:30.216153Z",
     "iopub.status.busy": "2022-03-23T05:00:30.199391Z",
     "iopub.status.idle": "2022-03-23T05:00:30.451161Z",
     "shell.execute_reply": "2022-03-23T05:00:30.450535Z",
     "shell.execute_reply.started": "2022-03-23T04:50:42.826796Z"
    },
    "papermill": {
     "duration": 0.41186,
     "end_time": "2022-03-23T05:00:30.451325",
     "exception": false,
     "start_time": "2022-03-23T05:00:30.039465",
     "status": "completed"
    },
    "tags": []
   },
   "outputs": [
    {
     "data": {
      "image/png": "[encoded data removed]",
      "text/plain": [
       "<Figure size 432x288 with 1 Axes>"
      ]
     },
     "metadata": {
      "needs_background": "light"
     },
     "output_type": "display_data"
    }
   ],
   "source": [
    "ax = sns.lineplot( x=\"Decile\", y=\"Actutal_event_rate\", data=sorted_reindexed,color='red')\n",
    "ax = sns.lineplot( x=\"Decile\", y=\"Predicted_event_rate\", data=sorted_reindexed,color='green')"
   ]
  },
  {
   "cell_type": "markdown",
   "id": "f752aa34",
   "metadata": {
    "papermill": {
     "duration": 0.160174,
     "end_time": "2022-03-23T05:00:30.775115",
     "exception": false,
     "start_time": "2022-03-23T05:00:30.614941",
     "status": "completed"
    },
    "tags": []
   },
   "source": [
    "## Gains Chart"
   ]
  },
  {
   "cell_type": "code",
   "execution_count": 81,
   "id": "cad3d8f2",
   "metadata": {
    "execution": {
     "iopub.execute_input": "2022-03-23T05:00:31.131959Z",
     "iopub.status.busy": "2022-03-23T05:00:31.120691Z",
     "iopub.status.idle": "2022-03-23T05:00:31.328641Z",
     "shell.execute_reply": "2022-03-23T05:00:31.328096Z",
     "shell.execute_reply.started": "2022-03-23T04:50:43.073570Z"
    },
    "papermill": {
     "duration": 0.392067,
     "end_time": "2022-03-23T05:00:31.328819",
     "exception": false,
     "start_time": "2022-03-23T05:00:30.936752",
     "status": "completed"
    },
    "tags": []
   },
   "outputs": [
    {
     "data": {
      "image/png": "[encoded data removed]",
      "text/plain": [
       "<Figure size 432x288 with 1 Axes>"
      ]
     },
     "metadata": {
      "needs_background": "light"
     },
     "output_type": "display_data"
    }
   ],
   "source": [
    "ax = sns.lineplot( x=\"Decile\", y=\"cum_non_event_cap\", data=sorted_reindexed,color='red')\n",
    "ax = sns.lineplot( x=\"Decile\", y=\"cum_event_cap\", data=sorted_reindexed,color='green')\n",
    "\n",
    "#we can see maximum eevents are being captured by 4th decile\n",
    "#so we can build a startegy till 4th decile for maximum returns"
   ]
  }
 ],
 "metadata": {
  "kernelspec": {
   "display_name": "Python 3",
   "language": "python",
   "name": "python3"
  },
  "language_info": {
   "codemirror_mode": {
    "name": "ipython",
    "version": 3
   },
   "file_extension": ".py",
   "mimetype": "text/x-python",
   "name": "python",
   "nbconvert_exporter": "python",
   "pygments_lexer": "ipython3",
   "version": "3.7.12"
  },
  "papermill": {
   "default_parameters": {},
   "duration": 76.103419,
   "end_time": "2022-03-23T05:00:32.402662",
   "environment_variables": {},
   "exception": null,
   "input_path": "__notebook__.ipynb",
   "output_path": "__notebook__.ipynb",
   "parameters": {},
   "start_time": "2022-03-23T04:59:16.299243",
   "version": "2.3.3"
  }
 },
 "nbformat": 4,
 "nbformat_minor": 5
}
